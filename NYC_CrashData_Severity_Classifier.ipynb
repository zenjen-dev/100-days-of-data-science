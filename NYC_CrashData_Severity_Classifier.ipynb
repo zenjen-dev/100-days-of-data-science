{
 "cells": [
  {
   "cell_type": "markdown",
   "id": "9aaa1618-6656-4a2d-b53e-ca53e9480126",
   "metadata": {
    "id": "9aaa1618-6656-4a2d-b53e-ca53e9480126",
    "tags": []
   },
   "source": [
    "### NYC Car Accident Project: Machine Learning\n",
    "Predicting accident severity of car accidents in NYC with supervised machine learning/classification."
   ]
  },
  {
   "cell_type": "code",
   "execution_count": 84,
   "id": "129b99e6-31b5-4874-bd33-e36fa34a0770",
   "metadata": {
    "collapsed": true,
    "jupyter": {
     "outputs_hidden": true
    },
    "tags": []
   },
   "outputs": [
    {
     "name": "stdout",
     "output_type": "stream",
     "text": [
      "Collecting xgboost\n",
      "  Downloading xgboost-1.6.2-py3-none-macosx_10_15_x86_64.macosx_11_0_x86_64.macosx_12_0_x86_64.whl (1.7 MB)\n",
      "\u001b[K     |████████████████████████████████| 1.7 MB 2.1 MB/s eta 0:00:01     |███████▋                        | 409 kB 2.1 MB/s eta 0:00:01\n",
      "\u001b[?25hRequirement already satisfied: scipy in /Users/jenarriaza/opt/anaconda3/lib/python3.8/site-packages (from xgboost) (1.5.4)\n",
      "Requirement already satisfied: numpy in /Users/jenarriaza/opt/anaconda3/lib/python3.8/site-packages (from xgboost) (1.22.3)\n",
      "Installing collected packages: xgboost\n",
      "Successfully installed xgboost-1.6.2\n",
      "Note: you may need to restart the kernel to use updated packages.\n"
     ]
    }
   ],
   "source": [
    "pip install xgboost"
   ]
  },
  {
   "cell_type": "code",
   "execution_count": 1,
   "id": "6415ff11",
   "metadata": {
    "id": "6415ff11",
    "tags": []
   },
   "outputs": [],
   "source": [
    "import numpy as np\n",
    "import matplotlib.pyplot as plt\n",
    "from numpy import linalg\n",
    "import sys\n",
    "import matplotlib.animation as animation\n",
    "from IPython.display import HTML\n",
    "import seaborn as sns\n",
    "import pandas as pd\n",
    "import os\n",
    "import cv2\n",
    "#import pycaret\n",
    "# from pycaret.classification import *\n",
    "\n",
    "import plotly.offline as py\n",
    "import plotly.graph_objs as go\n",
    "import plotly.io as pio\n",
    "pio.renderers.default = \"png\"\n",
    "\n",
    "# Ignore printing warnings for general readability\n",
    "import warnings \n",
    "warnings.filterwarnings(\"ignore\")\n",
    "\n",
    "# pip install scikit-surprise\n",
    "# Importing libraries for model building & evaluation\n",
    "from sklearn.model_selection import train_test_split\n",
    "from sklearn.linear_model import LinearRegression\n",
    "from sklearn.preprocessing import LabelEncoder\n",
    "from sklearn.utils import resample\n",
    "# from surprise import Reader, Dataset\n",
    "# from surprise.model_selection import train_test_split, cross_validate, GridSearchCV\n",
    "# from surprise import accuracy\n",
    "from sklearn.utils import resample"
   ]
  },
  {
   "cell_type": "code",
   "execution_count": 2,
   "id": "193d80b5-731a-4542-ad45-be442f3ea4a0",
   "metadata": {
    "id": "193d80b5-731a-4542-ad45-be442f3ea4a0",
    "outputId": "260e36ba-d990-44ea-c955-45ae002296a4"
   },
   "outputs": [
    {
     "data": {
      "text/plain": [
       "'/Users/jenarriaza/Applied Data Analytics-II'"
      ]
     },
     "execution_count": 2,
     "metadata": {},
     "output_type": "execute_result"
    }
   ],
   "source": [
    "os.getcwd()"
   ]
  },
  {
   "cell_type": "code",
   "execution_count": 3,
   "id": "973a917d-5673-4fb6-b94c-9643b8c88da7",
   "metadata": {
    "id": "973a917d-5673-4fb6-b94c-9643b8c88da7"
   },
   "outputs": [
    {
     "data": {
      "text/html": [
       "<div>\n",
       "<style scoped>\n",
       "    .dataframe tbody tr th:only-of-type {\n",
       "        vertical-align: middle;\n",
       "    }\n",
       "\n",
       "    .dataframe tbody tr th {\n",
       "        vertical-align: top;\n",
       "    }\n",
       "\n",
       "    .dataframe thead th {\n",
       "        text-align: right;\n",
       "    }\n",
       "</style>\n",
       "<table border=\"1\" class=\"dataframe\">\n",
       "  <thead>\n",
       "    <tr style=\"text-align: right;\">\n",
       "      <th></th>\n",
       "      <th>CRASH DATE</th>\n",
       "      <th>CRASH TIME</th>\n",
       "      <th>BOROUGH</th>\n",
       "      <th>ZIP CODE</th>\n",
       "      <th>LATITUDE</th>\n",
       "      <th>LONGITUDE</th>\n",
       "      <th>LOCATION</th>\n",
       "      <th>ON STREET NAME</th>\n",
       "      <th>CROSS STREET NAME</th>\n",
       "      <th>OFF STREET NAME</th>\n",
       "      <th>...</th>\n",
       "      <th>CONTRIBUTING FACTOR VEHICLE 2</th>\n",
       "      <th>CONTRIBUTING FACTOR VEHICLE 3</th>\n",
       "      <th>CONTRIBUTING FACTOR VEHICLE 4</th>\n",
       "      <th>CONTRIBUTING FACTOR VEHICLE 5</th>\n",
       "      <th>COLLISION_ID</th>\n",
       "      <th>VEHICLE TYPE CODE 1</th>\n",
       "      <th>VEHICLE TYPE CODE 2</th>\n",
       "      <th>VEHICLE TYPE CODE 3</th>\n",
       "      <th>VEHICLE TYPE CODE 4</th>\n",
       "      <th>VEHICLE TYPE CODE 5</th>\n",
       "    </tr>\n",
       "  </thead>\n",
       "  <tbody>\n",
       "    <tr>\n",
       "      <th>0</th>\n",
       "      <td>06/29/2022</td>\n",
       "      <td>6:55</td>\n",
       "      <td>NaN</td>\n",
       "      <td>NaN</td>\n",
       "      <td>NaN</td>\n",
       "      <td>NaN</td>\n",
       "      <td>NaN</td>\n",
       "      <td>THROGS NECK BRIDGE</td>\n",
       "      <td>NaN</td>\n",
       "      <td>NaN</td>\n",
       "      <td>...</td>\n",
       "      <td>Unspecified</td>\n",
       "      <td>NaN</td>\n",
       "      <td>NaN</td>\n",
       "      <td>NaN</td>\n",
       "      <td>4541903</td>\n",
       "      <td>Sedan</td>\n",
       "      <td>Pick-up Truck</td>\n",
       "      <td>NaN</td>\n",
       "      <td>NaN</td>\n",
       "      <td>NaN</td>\n",
       "    </tr>\n",
       "    <tr>\n",
       "      <th>1</th>\n",
       "      <td>06/30/2022</td>\n",
       "      <td>0:17</td>\n",
       "      <td>BROOKLYN</td>\n",
       "      <td>11207</td>\n",
       "      <td>40.669792</td>\n",
       "      <td>-73.89240</td>\n",
       "      <td>(40.669792, -73.8924)</td>\n",
       "      <td>WYONA STREET</td>\n",
       "      <td>SUTTER AVENUE</td>\n",
       "      <td>NaN</td>\n",
       "      <td>...</td>\n",
       "      <td>NaN</td>\n",
       "      <td>NaN</td>\n",
       "      <td>NaN</td>\n",
       "      <td>NaN</td>\n",
       "      <td>4542062</td>\n",
       "      <td>Taxi</td>\n",
       "      <td>NaN</td>\n",
       "      <td>NaN</td>\n",
       "      <td>NaN</td>\n",
       "      <td>NaN</td>\n",
       "    </tr>\n",
       "    <tr>\n",
       "      <th>2</th>\n",
       "      <td>04/14/2021</td>\n",
       "      <td>5:32</td>\n",
       "      <td>NaN</td>\n",
       "      <td>NaN</td>\n",
       "      <td>NaN</td>\n",
       "      <td>NaN</td>\n",
       "      <td>NaN</td>\n",
       "      <td>BRONX WHITESTONE BRIDGE</td>\n",
       "      <td>NaN</td>\n",
       "      <td>NaN</td>\n",
       "      <td>...</td>\n",
       "      <td>Unspecified</td>\n",
       "      <td>NaN</td>\n",
       "      <td>NaN</td>\n",
       "      <td>NaN</td>\n",
       "      <td>4407480</td>\n",
       "      <td>Sedan</td>\n",
       "      <td>Sedan</td>\n",
       "      <td>NaN</td>\n",
       "      <td>NaN</td>\n",
       "      <td>NaN</td>\n",
       "    </tr>\n",
       "    <tr>\n",
       "      <th>3</th>\n",
       "      <td>06/29/2022</td>\n",
       "      <td>7:00</td>\n",
       "      <td>NaN</td>\n",
       "      <td>NaN</td>\n",
       "      <td>NaN</td>\n",
       "      <td>NaN</td>\n",
       "      <td>NaN</td>\n",
       "      <td>Wood hill avenue</td>\n",
       "      <td>Sagamore avenue</td>\n",
       "      <td>NaN</td>\n",
       "      <td>...</td>\n",
       "      <td>Unspecified</td>\n",
       "      <td>Unspecified</td>\n",
       "      <td>NaN</td>\n",
       "      <td>NaN</td>\n",
       "      <td>4542269</td>\n",
       "      <td>Sedan</td>\n",
       "      <td>Sedan</td>\n",
       "      <td>Bus</td>\n",
       "      <td>NaN</td>\n",
       "      <td>NaN</td>\n",
       "    </tr>\n",
       "    <tr>\n",
       "      <th>4</th>\n",
       "      <td>04/13/2021</td>\n",
       "      <td>21:35</td>\n",
       "      <td>BROOKLYN</td>\n",
       "      <td>11217</td>\n",
       "      <td>40.683580</td>\n",
       "      <td>-73.97617</td>\n",
       "      <td>(40.68358, -73.97617)</td>\n",
       "      <td>NaN</td>\n",
       "      <td>NaN</td>\n",
       "      <td>620       ATLANTIC AVENUE</td>\n",
       "      <td>...</td>\n",
       "      <td>NaN</td>\n",
       "      <td>NaN</td>\n",
       "      <td>NaN</td>\n",
       "      <td>NaN</td>\n",
       "      <td>4407147</td>\n",
       "      <td>Sedan</td>\n",
       "      <td>NaN</td>\n",
       "      <td>NaN</td>\n",
       "      <td>NaN</td>\n",
       "      <td>NaN</td>\n",
       "    </tr>\n",
       "  </tbody>\n",
       "</table>\n",
       "<p>5 rows × 29 columns</p>\n",
       "</div>"
      ],
      "text/plain": [
       "   CRASH DATE CRASH TIME   BOROUGH ZIP CODE   LATITUDE  LONGITUDE  \\\n",
       "0  06/29/2022       6:55       NaN      NaN        NaN        NaN   \n",
       "1  06/30/2022       0:17  BROOKLYN    11207  40.669792  -73.89240   \n",
       "2  04/14/2021       5:32       NaN      NaN        NaN        NaN   \n",
       "3  06/29/2022       7:00       NaN      NaN        NaN        NaN   \n",
       "4  04/13/2021      21:35  BROOKLYN    11217  40.683580  -73.97617   \n",
       "\n",
       "                LOCATION           ON STREET NAME CROSS STREET NAME  \\\n",
       "0                    NaN       THROGS NECK BRIDGE               NaN   \n",
       "1  (40.669792, -73.8924)             WYONA STREET     SUTTER AVENUE   \n",
       "2                    NaN  BRONX WHITESTONE BRIDGE               NaN   \n",
       "3                    NaN         Wood hill avenue   Sagamore avenue   \n",
       "4  (40.68358, -73.97617)                      NaN               NaN   \n",
       "\n",
       "                            OFF STREET NAME  ...  \\\n",
       "0                                       NaN  ...   \n",
       "1                                       NaN  ...   \n",
       "2                                       NaN  ...   \n",
       "3                                       NaN  ...   \n",
       "4  620       ATLANTIC AVENUE                 ...   \n",
       "\n",
       "   CONTRIBUTING FACTOR VEHICLE 2  CONTRIBUTING FACTOR VEHICLE 3  \\\n",
       "0                    Unspecified                            NaN   \n",
       "1                            NaN                            NaN   \n",
       "2                    Unspecified                            NaN   \n",
       "3                    Unspecified                    Unspecified   \n",
       "4                            NaN                            NaN   \n",
       "\n",
       "   CONTRIBUTING FACTOR VEHICLE 4  CONTRIBUTING FACTOR VEHICLE 5  COLLISION_ID  \\\n",
       "0                            NaN                            NaN       4541903   \n",
       "1                            NaN                            NaN       4542062   \n",
       "2                            NaN                            NaN       4407480   \n",
       "3                            NaN                            NaN       4542269   \n",
       "4                            NaN                            NaN       4407147   \n",
       "\n",
       "   VEHICLE TYPE CODE 1  VEHICLE TYPE CODE 2  VEHICLE TYPE CODE 3  \\\n",
       "0                Sedan        Pick-up Truck                  NaN   \n",
       "1                 Taxi                  NaN                  NaN   \n",
       "2                Sedan                Sedan                  NaN   \n",
       "3                Sedan                Sedan                  Bus   \n",
       "4                Sedan                  NaN                  NaN   \n",
       "\n",
       "  VEHICLE TYPE CODE 4 VEHICLE TYPE CODE 5  \n",
       "0                 NaN                 NaN  \n",
       "1                 NaN                 NaN  \n",
       "2                 NaN                 NaN  \n",
       "3                 NaN                 NaN  \n",
       "4                 NaN                 NaN  \n",
       "\n",
       "[5 rows x 29 columns]"
      ]
     },
     "execution_count": 3,
     "metadata": {},
     "output_type": "execute_result"
    }
   ],
   "source": [
    "df = pd.read_csv(\"Motor_Vehicle_Collisions_-_Crashes.csv\", low_memory=False) # KEPLER.GL CAN READ GeoJSON, JSON, CSV\n",
    "df.head()"
   ]
  },
  {
   "cell_type": "code",
   "execution_count": 3,
   "id": "c67d7096-68ea-4479-a5a9-1abaffa1bd7e",
   "metadata": {},
   "outputs": [
    {
     "data": {
      "text/plain": [
       "CRASH DATE                             0\n",
       "CRASH TIME                             0\n",
       "BOROUGH                           595905\n",
       "ZIP CODE                          596138\n",
       "LATITUDE                          222330\n",
       "LONGITUDE                         222330\n",
       "LOCATION                          222330\n",
       "ON STREET NAME                    398501\n",
       "CROSS STREET NAME                 705089\n",
       "OFF STREET NAME                  1615548\n",
       "NUMBER OF PERSONS INJURED             18\n",
       "NUMBER OF PERSONS KILLED              31\n",
       "NUMBER OF PEDESTRIANS INJURED          0\n",
       "NUMBER OF PEDESTRIANS KILLED           0\n",
       "NUMBER OF CYCLIST INJURED              0\n",
       "NUMBER OF CYCLIST KILLED               0\n",
       "NUMBER OF MOTORIST INJURED             0\n",
       "NUMBER OF MOTORIST KILLED              0\n",
       "CONTRIBUTING FACTOR VEHICLE 1       5766\n",
       "CONTRIBUTING FACTOR VEHICLE 2     285421\n",
       "CONTRIBUTING FACTOR VEHICLE 3    1787552\n",
       "CONTRIBUTING FACTOR VEHICLE 4    1891928\n",
       "CONTRIBUTING FACTOR VEHICLE 5    1913724\n",
       "COLLISION_ID                           0\n",
       "VEHICLE TYPE CODE 1                11201\n",
       "VEHICLE TYPE CODE 2               344445\n",
       "VEHICLE TYPE CODE 3              1791910\n",
       "VEHICLE TYPE CODE 4              1892882\n",
       "VEHICLE TYPE CODE 5              1913945\n",
       "dtype: int64"
      ]
     },
     "execution_count": 3,
     "metadata": {},
     "output_type": "execute_result"
    }
   ],
   "source": [
    "df.isna().sum()"
   ]
  },
  {
   "cell_type": "code",
   "execution_count": 4,
   "id": "11be05b6-d15b-4f7f-882b-ccbfcdd3d1a8",
   "metadata": {},
   "outputs": [],
   "source": [
    "df.columns = [x.lower() for x in df.columns]\n",
    "df.columns = df.columns.str.replace(' ', '_')"
   ]
  },
  {
   "cell_type": "code",
   "execution_count": 5,
   "id": "17ed686f-e69f-4fac-ac8d-149c7f015bb3",
   "metadata": {},
   "outputs": [
    {
     "data": {
      "text/plain": [
       "Index(['crash_date', 'crash_time', 'borough', 'zip_code', 'latitude',\n",
       "       'longitude', 'location', 'on_street_name', 'cross_street_name',\n",
       "       'off_street_name', 'number_of_persons_injured',\n",
       "       'number_of_persons_killed', 'number_of_pedestrians_injured',\n",
       "       'number_of_pedestrians_killed', 'number_of_cyclist_injured',\n",
       "       'number_of_cyclist_killed', 'number_of_motorist_injured',\n",
       "       'number_of_motorist_killed', 'contributing_factor_vehicle_1',\n",
       "       'contributing_factor_vehicle_2', 'contributing_factor_vehicle_3',\n",
       "       'contributing_factor_vehicle_4', 'contributing_factor_vehicle_5',\n",
       "       'collision_id', 'vehicle_type_code_1', 'vehicle_type_code_2',\n",
       "       'vehicle_type_code_3', 'vehicle_type_code_4', 'vehicle_type_code_5'],\n",
       "      dtype='object')"
      ]
     },
     "execution_count": 5,
     "metadata": {},
     "output_type": "execute_result"
    }
   ],
   "source": [
    "df.columns"
   ]
  },
  {
   "cell_type": "code",
   "execution_count": 6,
   "id": "3f53a2d3-b125-4684-a9ee-e51c075c8c2c",
   "metadata": {},
   "outputs": [],
   "source": [
    "# Drop duplicates.\n",
    "df.drop_duplicates(inplace=True)"
   ]
  },
  {
   "cell_type": "code",
   "execution_count": 7,
   "id": "dcafdec2-906a-4346-8d0a-3eea4eb51837",
   "metadata": {
    "id": "dcafdec2-906a-4346-8d0a-3eea4eb51837",
    "outputId": "a5481ed3-a646-4333-f82c-a358aaaa72d8"
   },
   "outputs": [],
   "source": [
    "# filling a null values using fillna()\n",
    "df[\"borough\"].fillna(\"Not Available\", inplace = True)\n",
    "df[\"zip_code\"].fillna(\"0\", inplace = True)\n",
    "df[\"on_street_name\"].fillna(\"Not Available\", inplace = True)\n",
    "df[\"cross_street_name\"].fillna(\"Not Available\", inplace = True)\n",
    "df[\"off_street_name\"].fillna(\"Not Available\", inplace = True)\n",
    "df[\"contributing_factor_vehicle_1\"].fillna(\"Not Available\", inplace = True)\n",
    "df[\"contributing_factor_vehicle_2\"].fillna(\"Not Available\", inplace = True)\n",
    "df[\"vehicle_type_code_1\"].fillna(\"Not Available\", inplace = True)\n",
    "df[\"vehicle_type_code_2\"].fillna(\"Not Available\", inplace = True)"
   ]
  },
  {
   "cell_type": "code",
   "execution_count": 8,
   "id": "ea7dbde5-2848-497e-a514-b524bca1978c",
   "metadata": {},
   "outputs": [],
   "source": [
    "# Fill missing lat/long with borough mean\n",
    "df[['latitude', 'longitude']]=df[['borough','latitude', 'longitude']].groupby('borough').ffill().bfill()"
   ]
  },
  {
   "cell_type": "code",
   "execution_count": 9,
   "id": "de6d9c34-5c08-4719-a2a7-0c0d1979a283",
   "metadata": {},
   "outputs": [
    {
     "data": {
      "text/plain": [
       "crash_date                             0\n",
       "crash_time                             0\n",
       "borough                                0\n",
       "zip_code                               0\n",
       "latitude                               0\n",
       "longitude                              0\n",
       "location                          222330\n",
       "on_street_name                         0\n",
       "cross_street_name                      0\n",
       "off_street_name                        0\n",
       "number_of_persons_injured             18\n",
       "number_of_persons_killed              31\n",
       "number_of_pedestrians_injured          0\n",
       "number_of_pedestrians_killed           0\n",
       "number_of_cyclist_injured              0\n",
       "number_of_cyclist_killed               0\n",
       "number_of_motorist_injured             0\n",
       "number_of_motorist_killed              0\n",
       "contributing_factor_vehicle_1          0\n",
       "contributing_factor_vehicle_2          0\n",
       "contributing_factor_vehicle_3    1787552\n",
       "contributing_factor_vehicle_4    1891928\n",
       "contributing_factor_vehicle_5    1913724\n",
       "collision_id                           0\n",
       "vehicle_type_code_1                    0\n",
       "vehicle_type_code_2                    0\n",
       "vehicle_type_code_3              1791910\n",
       "vehicle_type_code_4              1892882\n",
       "vehicle_type_code_5              1913945\n",
       "dtype: int64"
      ]
     },
     "execution_count": 9,
     "metadata": {},
     "output_type": "execute_result"
    }
   ],
   "source": [
    "df.isna().sum()"
   ]
  },
  {
   "cell_type": "markdown",
   "id": "59ab7c54-4ee0-40f6-ab40-ba4801f49140",
   "metadata": {
    "id": "59ab7c54-4ee0-40f6-ab40-ba4801f49140"
   },
   "source": [
    "# Cleanup"
   ]
  },
  {
   "cell_type": "code",
   "execution_count": 10,
   "id": "ef9313f5-db00-420b-97a7-257645b73286",
   "metadata": {},
   "outputs": [],
   "source": [
    "# What to do with date/time column?\n",
    "# Change data type of date column\n",
    "# convert to datetime format, if needed\n",
    "df.crash_date = pd.to_datetime(df.crash_date)"
   ]
  },
  {
   "cell_type": "code",
   "execution_count": 16,
   "id": "8b3f190e-cb45-46e4-9ee0-8d55bd6bb1cf",
   "metadata": {
    "id": "8b3f190e-cb45-46e4-9ee0-8d55bd6bb1cf"
   },
   "outputs": [],
   "source": [
    "# Renaming columns\n",
    "df.rename(columns={'number_of_cyclist_injured': 'amt_cyc_inj', 'veh_type_code1':'veh_type_1','veh_type_code2':'veh_type_2','cont_fact_veh1':'contributing_factor1','cont_fact_veh2':'contributing_factor2'}, inplace=True)"
   ]
  },
  {
   "cell_type": "code",
   "execution_count": 17,
   "id": "6f61287c-58ae-44da-98e1-fa998be0ed8c",
   "metadata": {},
   "outputs": [
    {
     "data": {
      "text/plain": [
       "Index(['crash_date', 'crash_time', 'borough', 'zip_code', 'latitude',\n",
       "       'longitude', 'location', 'on_street_name', 'cross_street_name',\n",
       "       'off_street_name', 'number_of_persons_injured',\n",
       "       'number_of_persons_killed', 'number_of_pedestrians_injured',\n",
       "       'number_of_pedestrians_killed', 'amt_cyc_inj',\n",
       "       'number_of_cyclist_killed', 'number_of_motorist_injured',\n",
       "       'number_of_motorist_killed', 'contributing_factor_vehicle_1',\n",
       "       'contributing_factor_vehicle_2', 'contributing_factor_vehicle_3',\n",
       "       'contributing_factor_vehicle_4', 'contributing_factor_vehicle_5',\n",
       "       'collision_id', 'vehicle_type_code_1', 'vehicle_type_code_2',\n",
       "       'vehicle_type_code_3', 'vehicle_type_code_4', 'vehicle_type_code_5'],\n",
       "      dtype='object')"
      ]
     },
     "execution_count": 17,
     "metadata": {},
     "output_type": "execute_result"
    }
   ],
   "source": [
    "df.columns"
   ]
  },
  {
   "cell_type": "markdown",
   "id": "8d41e8d0-e2f5-4db4-b4c6-5f463d108fc7",
   "metadata": {},
   "source": [
    "#### Choose variables of interest for ML run"
   ]
  },
  {
   "cell_type": "code",
   "execution_count": 1,
   "id": "67f3368c-c89a-4247-bd0e-b010e54ddb35",
   "metadata": {
    "tags": []
   },
   "outputs": [],
   "source": [
    "# Drop unnecessary columns\n",
    "\n",
    "# df.drop(['collision_id','long_lat', 'amt_ped_inj','amt_ped_killed', 'amt_cyc_inj', 'amt_cyc_killed', 'amt_mot_inj','amt_mot_killed','vehicle_type_code_3', 'vehicle_type_code_4', 'vehicle_type_code_5'], axis=1, inplace=True)"
   ]
  },
  {
   "cell_type": "code",
   "execution_count": 20,
   "id": "e6a17cc6-3f3d-47ee-8a50-2c15e18fb369",
   "metadata": {},
   "outputs": [
    {
     "data": {
      "text/plain": [
       "Index(['crash_date', 'crash_time', 'borough', 'zip_code', 'latitude',\n",
       "       'longitude', 'location', 'on_street_name', 'cross_street_name',\n",
       "       'off_street_name', 'number_of_persons_injured',\n",
       "       'number_of_persons_killed', 'number_of_pedestrians_injured',\n",
       "       'number_of_pedestrians_killed', 'amt_cyc_inj',\n",
       "       'number_of_cyclist_killed', 'number_of_motorist_injured',\n",
       "       'number_of_motorist_killed', 'contributing_factor_vehicle_1',\n",
       "       'contributing_factor_vehicle_2', 'contributing_factor_vehicle_3',\n",
       "       'contributing_factor_vehicle_4', 'contributing_factor_vehicle_5',\n",
       "       'collision_id', 'vehicle_type_code_1', 'vehicle_type_code_2',\n",
       "       'vehicle_type_code_3', 'vehicle_type_code_4', 'vehicle_type_code_5'],\n",
       "      dtype='object')"
      ]
     },
     "execution_count": 20,
     "metadata": {},
     "output_type": "execute_result"
    }
   ],
   "source": [
    "df.columns"
   ]
  },
  {
   "cell_type": "code",
   "execution_count": 11,
   "id": "444001af-8d80-42eb-af2d-a7f1870fc404",
   "metadata": {},
   "outputs": [],
   "source": [
    "df = df[['crash_date','crash_time','borough', 'zip_code', 'latitude', 'longitude', 'on_street_name',\n",
    "       'cross_street_name', 'off_street_name', 'number_of_persons_injured','contributing_factor_vehicle_1',\n",
    "       'contributing_factor_vehicle_2', 'vehicle_type_code_1', 'vehicle_type_code_2']]"
   ]
  },
  {
   "cell_type": "code",
   "execution_count": 12,
   "id": "90faf4ff-0e1e-4edd-ae30-ba6b94a7e00f",
   "metadata": {},
   "outputs": [],
   "source": [
    "# Extract more data of interest \n",
    "\n",
    "df['hour'] = df['crash_time'].str[:-3]\n",
    "df['year'] = df['crash_date'].dt.year\n",
    "df['month'] = df['crash_date'].dt.month\n",
    "df['day_of_week'] = df['crash_date'].dt.dayofweek"
   ]
  },
  {
   "cell_type": "code",
   "execution_count": 13,
   "id": "1941ccd1-41cd-4590-b0de-974200ae393b",
   "metadata": {},
   "outputs": [
    {
     "data": {
      "text/html": [
       "<div>\n",
       "<style scoped>\n",
       "    .dataframe tbody tr th:only-of-type {\n",
       "        vertical-align: middle;\n",
       "    }\n",
       "\n",
       "    .dataframe tbody tr th {\n",
       "        vertical-align: top;\n",
       "    }\n",
       "\n",
       "    .dataframe thead th {\n",
       "        text-align: right;\n",
       "    }\n",
       "</style>\n",
       "<table border=\"1\" class=\"dataframe\">\n",
       "  <thead>\n",
       "    <tr style=\"text-align: right;\">\n",
       "      <th></th>\n",
       "      <th>crash_date</th>\n",
       "      <th>crash_time</th>\n",
       "      <th>borough</th>\n",
       "      <th>zip_code</th>\n",
       "      <th>latitude</th>\n",
       "      <th>longitude</th>\n",
       "      <th>on_street_name</th>\n",
       "      <th>cross_street_name</th>\n",
       "      <th>off_street_name</th>\n",
       "      <th>number_of_persons_injured</th>\n",
       "      <th>contributing_factor_vehicle_1</th>\n",
       "      <th>contributing_factor_vehicle_2</th>\n",
       "      <th>vehicle_type_code_1</th>\n",
       "      <th>vehicle_type_code_2</th>\n",
       "      <th>hour</th>\n",
       "      <th>year</th>\n",
       "      <th>month</th>\n",
       "      <th>day_of_week</th>\n",
       "    </tr>\n",
       "  </thead>\n",
       "  <tbody>\n",
       "    <tr>\n",
       "      <th>0</th>\n",
       "      <td>2022-06-29</td>\n",
       "      <td>6:55</td>\n",
       "      <td>Not Available</td>\n",
       "      <td>0</td>\n",
       "      <td>40.669792</td>\n",
       "      <td>-73.89240</td>\n",
       "      <td>THROGS NECK BRIDGE</td>\n",
       "      <td>Not Available</td>\n",
       "      <td>Not Available</td>\n",
       "      <td>0.0</td>\n",
       "      <td>Following Too Closely</td>\n",
       "      <td>Unspecified</td>\n",
       "      <td>Sedan</td>\n",
       "      <td>Pick-up Truck</td>\n",
       "      <td>6</td>\n",
       "      <td>2022</td>\n",
       "      <td>6</td>\n",
       "      <td>2</td>\n",
       "    </tr>\n",
       "    <tr>\n",
       "      <th>1</th>\n",
       "      <td>2022-06-30</td>\n",
       "      <td>0:17</td>\n",
       "      <td>BROOKLYN</td>\n",
       "      <td>11207</td>\n",
       "      <td>40.669792</td>\n",
       "      <td>-73.89240</td>\n",
       "      <td>WYONA STREET</td>\n",
       "      <td>SUTTER AVENUE</td>\n",
       "      <td>Not Available</td>\n",
       "      <td>1.0</td>\n",
       "      <td>Unspecified</td>\n",
       "      <td>Not Available</td>\n",
       "      <td>Taxi</td>\n",
       "      <td>Not Available</td>\n",
       "      <td>0</td>\n",
       "      <td>2022</td>\n",
       "      <td>6</td>\n",
       "      <td>3</td>\n",
       "    </tr>\n",
       "    <tr>\n",
       "      <th>2</th>\n",
       "      <td>2021-04-14</td>\n",
       "      <td>5:32</td>\n",
       "      <td>Not Available</td>\n",
       "      <td>0</td>\n",
       "      <td>40.683580</td>\n",
       "      <td>-73.97617</td>\n",
       "      <td>BRONX WHITESTONE BRIDGE</td>\n",
       "      <td>Not Available</td>\n",
       "      <td>Not Available</td>\n",
       "      <td>0.0</td>\n",
       "      <td>Following Too Closely</td>\n",
       "      <td>Unspecified</td>\n",
       "      <td>Sedan</td>\n",
       "      <td>Sedan</td>\n",
       "      <td>5</td>\n",
       "      <td>2021</td>\n",
       "      <td>4</td>\n",
       "      <td>2</td>\n",
       "    </tr>\n",
       "    <tr>\n",
       "      <th>3</th>\n",
       "      <td>2022-06-29</td>\n",
       "      <td>7:00</td>\n",
       "      <td>Not Available</td>\n",
       "      <td>0</td>\n",
       "      <td>40.683580</td>\n",
       "      <td>-73.97617</td>\n",
       "      <td>Wood hill avenue</td>\n",
       "      <td>Sagamore avenue</td>\n",
       "      <td>Not Available</td>\n",
       "      <td>0.0</td>\n",
       "      <td>Turning Improperly</td>\n",
       "      <td>Unspecified</td>\n",
       "      <td>Sedan</td>\n",
       "      <td>Sedan</td>\n",
       "      <td>7</td>\n",
       "      <td>2022</td>\n",
       "      <td>6</td>\n",
       "      <td>2</td>\n",
       "    </tr>\n",
       "    <tr>\n",
       "      <th>4</th>\n",
       "      <td>2021-04-13</td>\n",
       "      <td>21:35</td>\n",
       "      <td>BROOKLYN</td>\n",
       "      <td>11217</td>\n",
       "      <td>40.683580</td>\n",
       "      <td>-73.97617</td>\n",
       "      <td>Not Available</td>\n",
       "      <td>Not Available</td>\n",
       "      <td>620       ATLANTIC AVENUE</td>\n",
       "      <td>1.0</td>\n",
       "      <td>Unspecified</td>\n",
       "      <td>Not Available</td>\n",
       "      <td>Sedan</td>\n",
       "      <td>Not Available</td>\n",
       "      <td>21</td>\n",
       "      <td>2021</td>\n",
       "      <td>4</td>\n",
       "      <td>1</td>\n",
       "    </tr>\n",
       "  </tbody>\n",
       "</table>\n",
       "</div>"
      ],
      "text/plain": [
       "  crash_date crash_time        borough zip_code   latitude  longitude  \\\n",
       "0 2022-06-29       6:55  Not Available        0  40.669792  -73.89240   \n",
       "1 2022-06-30       0:17       BROOKLYN    11207  40.669792  -73.89240   \n",
       "2 2021-04-14       5:32  Not Available        0  40.683580  -73.97617   \n",
       "3 2022-06-29       7:00  Not Available        0  40.683580  -73.97617   \n",
       "4 2021-04-13      21:35       BROOKLYN    11217  40.683580  -73.97617   \n",
       "\n",
       "            on_street_name cross_street_name  \\\n",
       "0       THROGS NECK BRIDGE     Not Available   \n",
       "1             WYONA STREET     SUTTER AVENUE   \n",
       "2  BRONX WHITESTONE BRIDGE     Not Available   \n",
       "3         Wood hill avenue   Sagamore avenue   \n",
       "4            Not Available     Not Available   \n",
       "\n",
       "                            off_street_name  number_of_persons_injured  \\\n",
       "0                             Not Available                        0.0   \n",
       "1                             Not Available                        1.0   \n",
       "2                             Not Available                        0.0   \n",
       "3                             Not Available                        0.0   \n",
       "4  620       ATLANTIC AVENUE                                       1.0   \n",
       "\n",
       "  contributing_factor_vehicle_1 contributing_factor_vehicle_2  \\\n",
       "0         Following Too Closely                   Unspecified   \n",
       "1                   Unspecified                 Not Available   \n",
       "2         Following Too Closely                   Unspecified   \n",
       "3            Turning Improperly                   Unspecified   \n",
       "4                   Unspecified                 Not Available   \n",
       "\n",
       "  vehicle_type_code_1 vehicle_type_code_2 hour  year  month  day_of_week  \n",
       "0               Sedan       Pick-up Truck    6  2022      6            2  \n",
       "1                Taxi       Not Available    0  2022      6            3  \n",
       "2               Sedan               Sedan    5  2021      4            2  \n",
       "3               Sedan               Sedan    7  2022      6            2  \n",
       "4               Sedan       Not Available   21  2021      4            1  "
      ]
     },
     "execution_count": 13,
     "metadata": {},
     "output_type": "execute_result"
    }
   ],
   "source": [
    "df.head()"
   ]
  },
  {
   "cell_type": "code",
   "execution_count": 14,
   "id": "5b6ed2b7-2010-4eb9-b71f-37541f366a17",
   "metadata": {},
   "outputs": [
    {
     "data": {
      "text/plain": [
       "crash_date                        0\n",
       "crash_time                        0\n",
       "borough                           0\n",
       "zip_code                          0\n",
       "latitude                          0\n",
       "longitude                         0\n",
       "on_street_name                    0\n",
       "cross_street_name                 0\n",
       "off_street_name                   0\n",
       "number_of_persons_injured        18\n",
       "contributing_factor_vehicle_1     0\n",
       "contributing_factor_vehicle_2     0\n",
       "vehicle_type_code_1               0\n",
       "vehicle_type_code_2               0\n",
       "hour                              0\n",
       "year                              0\n",
       "month                             0\n",
       "day_of_week                       0\n",
       "dtype: int64"
      ]
     },
     "execution_count": 14,
     "metadata": {},
     "output_type": "execute_result"
    }
   ],
   "source": [
    "df.isna().sum()"
   ]
  },
  {
   "cell_type": "markdown",
   "id": "eede8402-50b4-4228-9dd6-b21ad5048f6b",
   "metadata": {},
   "source": [
    "### Dropping rows where lat/long out of bounds, if needed"
   ]
  },
  {
   "cell_type": "code",
   "execution_count": 12,
   "id": "295d8cff-c015-497a-873b-e514f70b924f",
   "metadata": {},
   "outputs": [],
   "source": [
    "# df1 = df[df.apply(lambda row: (40.554168<=row['latitude']<= 40.889596) and (-74.163230<=row['longitude']<=-73.726940), axis=1)]"
   ]
  },
  {
   "cell_type": "code",
   "execution_count": 25,
   "id": "604afe5e-ea2a-49c8-ad5b-ea3db6644fd7",
   "metadata": {},
   "outputs": [
    {
     "data": {
      "text/plain": [
       "count    1.921679e+06\n",
       "mean     4.064191e+01\n",
       "std      1.834246e+00\n",
       "min      0.000000e+00\n",
       "25%      4.066865e+01\n",
       "50%      4.072258e+01\n",
       "75%      4.076954e+01\n",
       "max      4.334444e+01\n",
       "Name: latitude, dtype: float64"
      ]
     },
     "execution_count": 25,
     "metadata": {},
     "output_type": "execute_result"
    }
   ],
   "source": [
    "df.latitude.describe()"
   ]
  },
  {
   "cell_type": "code",
   "execution_count": 15,
   "id": "d3da154f-83fd-4515-b989-be41def7ebfa",
   "metadata": {},
   "outputs": [
    {
     "data": {
      "text/plain": [
       "count    430199.000000\n",
       "mean        -73.634437\n",
       "std           4.530717\n",
       "min         -74.253006\n",
       "25%         -73.962510\n",
       "50%         -73.918940\n",
       "75%         -73.861670\n",
       "max           0.000000\n",
       "Name: longitude, dtype: float64"
      ]
     },
     "execution_count": 15,
     "metadata": {},
     "output_type": "execute_result"
    }
   ],
   "source": [
    "df.longitude.describe()"
   ]
  },
  {
   "cell_type": "markdown",
   "id": "bf2e0c58-7c6b-45e0-aac2-04f7d5fb41f9",
   "metadata": {},
   "source": [
    "#### Data Transformations "
   ]
  },
  {
   "cell_type": "code",
   "execution_count": 18,
   "id": "1e70f16e-7dc6-457d-a2bf-5bb912862de8",
   "metadata": {},
   "outputs": [],
   "source": [
    "# Fix data types\n",
    "\n",
    "#df[\"zip_code\"] = df['zip_code'].astype('float64')\n",
    "#df[\"latitude\"] = df['latitude'].astype('float64')\n",
    "#df[\"longitude\"] = df['longitude'].astype('float64')\n",
    "#df[\"hour\"] = df['hour'].astype('int64')\n",
    "#df1[\"on_street\"] = df1['on_street'].astype('float64')\n",
    "#df1[\"veh_type\"] = df1['veh_type'].astype('float64')\n",
    "#df1.dtypes"
   ]
  },
  {
   "cell_type": "code",
   "execution_count": null,
   "id": "5e71a4dc-5c56-4cc3-899c-cca267ae41ae",
   "metadata": {},
   "outputs": [],
   "source": [
    "# Manipulate vehicle type\n",
    "\n",
    "# df1['veh_type'] = df1['veh_type'].apply(lambda x: float(x.split()[0].replace('Station Wagon/Sport Utility Vehicle', 'SUV')))"
   ]
  },
  {
   "cell_type": "code",
   "execution_count": 28,
   "id": "460f7d44-779f-492d-9764-bf11192b73e7",
   "metadata": {},
   "outputs": [
    {
     "data": {
      "text/plain": [
       "crash_date                        0\n",
       "crash_time                        0\n",
       "borough                           0\n",
       "zip_code                          0\n",
       "latitude                          0\n",
       "longitude                         0\n",
       "on_street_name                    0\n",
       "cross_street_name                 0\n",
       "off_street_name                   0\n",
       "number_of_persons_injured        18\n",
       "contributing_factor_vehicle_1     0\n",
       "contributing_factor_vehicle_2     0\n",
       "vehicle_type_code_1               0\n",
       "vehicle_type_code_2               0\n",
       "hour                              0\n",
       "year                              0\n",
       "month                             0\n",
       "day_of_week                       0\n",
       "dtype: int64"
      ]
     },
     "execution_count": 28,
     "metadata": {},
     "output_type": "execute_result"
    }
   ],
   "source": [
    "df.isna().sum()"
   ]
  },
  {
   "cell_type": "code",
   "execution_count": 15,
   "id": "6013c5ad-0baf-4f0e-88cc-4605862e49f6",
   "metadata": {},
   "outputs": [],
   "source": [
    "# Run clean-up on NaNs, if needed\n",
    "\n",
    "# df1 = df[df['number_of_persons_injured'].notna()]\n",
    "# df1 = df1.replace(np.nan, '', regex=True)\n",
    "# df1 = df1[df1['on_street'].notna()]\n",
    "# df1 = df1[df1['off_street_name'].notna()]\n",
    "# df1 = df1[df1['veh_type'].notna()]\n",
    "# df1 = df[df['amt_injured'].notna()]"
   ]
  },
  {
   "cell_type": "markdown",
   "id": "bea66812-d0c7-4f48-b095-a6058aa6fc44",
   "metadata": {},
   "source": [
    "# Machine Learning: Classification"
   ]
  },
  {
   "cell_type": "code",
   "execution_count": 16,
   "id": "292d08de-a192-4c0f-929c-e51b0c04a184",
   "metadata": {},
   "outputs": [],
   "source": [
    "def evaluator(x):\n",
    "   if x == 0:\n",
    "      return False\n",
    "   elif x == 1:\n",
    "      return True\n",
    "   else:\n",
    "      return True\n",
    "df['serious_accident'] = df['number_of_persons_injured'].map(lambda x: evaluator(x))"
   ]
  },
  {
   "cell_type": "code",
   "execution_count": 17,
   "id": "5d19f9cb-d17e-45ff-b79f-9ca440b7a0b4",
   "metadata": {},
   "outputs": [
    {
     "data": {
      "text/plain": [
       "Index(['crash_date', 'crash_time', 'borough', 'zip_code', 'latitude',\n",
       "       'longitude', 'on_street_name', 'cross_street_name', 'off_street_name',\n",
       "       'number_of_persons_injured', 'contributing_factor_vehicle_1',\n",
       "       'contributing_factor_vehicle_2', 'vehicle_type_code_1',\n",
       "       'vehicle_type_code_2', 'hour', 'year', 'month', 'day_of_week',\n",
       "       'serious_accident'],\n",
       "      dtype='object')"
      ]
     },
     "execution_count": 17,
     "metadata": {},
     "output_type": "execute_result"
    }
   ],
   "source": [
    "df.columns"
   ]
  },
  {
   "cell_type": "markdown",
   "id": "f0d32e45-3b33-4398-a656-a1c11b7d8373",
   "metadata": {},
   "source": [
    "#### Filter years/top vehicles, etc. if needed"
   ]
  },
  {
   "cell_type": "code",
   "execution_count": 17,
   "id": "d9b099bd-7486-475b-9f85-508b78d86410",
   "metadata": {},
   "outputs": [],
   "source": [
    "# df1 = df1[df1.year.isin([2020,2021])]"
   ]
  },
  {
   "cell_type": "code",
   "execution_count": 18,
   "id": "069bd370-0265-4f01-bd60-36f6c416383b",
   "metadata": {},
   "outputs": [],
   "source": [
    "# Select top vehicle types\n",
    "#veh_type_top5 = ['Sedan','Station Wagon/Sport Utility Vehicle','Taxi','Pick-up Truck','Box Truck']\n",
    "            \n",
    "\n",
    "#df1 = df1[df1.veh_type.isin(veh_type_top5)]"
   ]
  },
  {
   "cell_type": "code",
   "execution_count": 18,
   "id": "8baac161-337f-4adc-8c90-4a7981a08eec",
   "metadata": {},
   "outputs": [
    {
     "data": {
      "text/plain": [
       "False    1510524\n",
       "True      411137\n",
       "Name: serious_accident, dtype: int64"
      ]
     },
     "execution_count": 18,
     "metadata": {},
     "output_type": "execute_result"
    }
   ],
   "source": [
    "df.serious_accident.value_counts()"
   ]
  },
  {
   "cell_type": "markdown",
   "id": "de2a2741-b18d-4ed9-89d2-2254193457d9",
   "metadata": {},
   "source": [
    "### Remove the target columns for ML run"
   ]
  },
  {
   "cell_type": "code",
   "execution_count": 19,
   "id": "f218e0b5-7d43-4051-b772-be983b8b41d0",
   "metadata": {},
   "outputs": [],
   "source": [
    "# Drop columns to be exlcuded from machine learning\n",
    "df.drop(['crash_date','crash_time','number_of_persons_injured'], axis=1, inplace=True) # 'on_street', 'cross_street_name', 'off_street_name'"
   ]
  },
  {
   "cell_type": "markdown",
   "id": "fb2b2b7a-542b-43cd-b562-2a29ad49ac76",
   "metadata": {},
   "source": [
    "#### Retitle, reindex columns if needed"
   ]
  },
  {
   "cell_type": "code",
   "execution_count": 28,
   "id": "34bf8c58-eef8-438b-a4bc-8624f8c7ea43",
   "metadata": {},
   "outputs": [],
   "source": [
    "#columnsTitles = ['latitude', 'longitude','cont_fact_veh1', 'veh_type','hour', 'serious_accident']\n",
    "\n",
    "#df1 = df1.reindex(columns=columnsTitles)"
   ]
  },
  {
   "cell_type": "markdown",
   "id": "978569b1-b5b1-46c8-bb64-de78593d39c3",
   "metadata": {
    "tags": []
   },
   "source": [
    "## Classification\n",
    "- use next 2 cells to write code for an ML classification problem, if needed"
   ]
  },
  {
   "cell_type": "code",
   "execution_count": 13,
   "id": "af518783-2602-4032-b4d8-2a1d15c93bff",
   "metadata": {
    "tags": []
   },
   "outputs": [],
   "source": [
    "#df2 = df\n",
    "conditions = [\n",
    "    (df['amt_injured'] >=1), # 1 or more injuries\n",
    "    (df['amt_injured'] ==0)] # property damage (only)\n",
    "choices = ['Injury', 'Property Damage']\n",
    "df['Severity'] = np.select(conditions, choices, default='Property Damage')\n",
    "#print(df3)"
   ]
  },
  {
   "cell_type": "code",
   "execution_count": 14,
   "id": "7ef754c6-00fb-462b-b918-c29b8aa647c5",
   "metadata": {
    "tags": []
   },
   "outputs": [],
   "source": [
    "# map severity to code: \n",
    "df['Severity'] = df['Severity'].map({'Property Damage':1, 'Injury':2})"
   ]
  },
  {
   "cell_type": "markdown",
   "id": "389d7410-3284-47e9-9bde-c3e3fc9cc67a",
   "metadata": {},
   "source": [
    "### Handling Class Imbalance\n",
    "Applying down/up-sambling to imbalances in data"
   ]
  },
  {
   "cell_type": "code",
   "execution_count": 35,
   "id": "b34eedfa-bbaa-4c9a-9e3b-51be2376a06b",
   "metadata": {},
   "outputs": [
    {
     "data": {
      "text/plain": [
       "False    1510524\n",
       "True      411137\n",
       "Name: serious_accident, dtype: int64"
      ]
     },
     "execution_count": 35,
     "metadata": {},
     "output_type": "execute_result"
    }
   ],
   "source": [
    "df.serious_accident.value_counts()"
   ]
  },
  {
   "cell_type": "code",
   "execution_count": 20,
   "id": "167bb546-e135-4102-b51c-7526a144e917",
   "metadata": {},
   "outputs": [
    {
     "data": {
      "text/plain": [
       "<AxesSubplot:xlabel='serious_accident', ylabel='count'>"
      ]
     },
     "execution_count": 20,
     "metadata": {},
     "output_type": "execute_result"
    },
    {
     "data": {
      "image/png": "[encoded data removed]",
      "text/plain": [
       "<Figure size 432x288 with 1 Axes>"
      ]
     },
     "metadata": {
      "needs_background": "light"
     },
     "output_type": "display_data"
    }
   ],
   "source": [
    "sns.countplot(x='serious_accident',data=df,\n",
    "               order = df['serious_accident'].value_counts().index)"
   ]
  },
  {
   "cell_type": "markdown",
   "id": "6dda79d8-7908-4312-9230-29eb292598e7",
   "metadata": {},
   "source": [
    "### Upsampling"
   ]
  },
  {
   "cell_type": "code",
   "execution_count": 37,
   "id": "69f5d410-4852-4a10-a0fd-c70c8a370590",
   "metadata": {},
   "outputs": [],
   "source": [
    "df_majority1 = df[df['serious_accident']==False]         \n",
    "df_minority1 = df[df['serious_accident']==True] \n",
    "\n",
    "df_minority_upsampled1 = resample(df_minority1,\n",
    "                                   replace=True, # sample without replacement\n",
    "                                   n_samples=1510524, # to match majority class\n",
    "                                   random_state=123) # reproducable results\n",
    "df_upsampled1 = pd.concat([df_minority_upsampled1, df_majority1])"
   ]
  },
  {
   "cell_type": "markdown",
   "id": "7625ae44-40c0-43c9-878d-2f43fbfe7120",
   "metadata": {},
   "source": [
    "### Downsampling (if needed)"
   ]
  },
  {
   "cell_type": "code",
   "execution_count": 21,
   "id": "d001cad4-f32d-4c3a-93a4-a79ec834b869",
   "metadata": {},
   "outputs": [],
   "source": [
    "df_majority1 = df[df['serious_accident']==False]         \n",
    "df_minority1 = df[df['serious_accident']==True] \n",
    "\n",
    "df_majority_downsampled1 = resample(df_majority1,\n",
    "                                   replace=False, # sample without replacement\n",
    "                                   n_samples=411137, # to match minority class\n",
    "                                   random_state=123) # reproducable results\n",
    "\n",
    "df_downsampled1 = pd.concat([df_majority_downsampled1, df_minority1])"
   ]
  },
  {
   "cell_type": "code",
   "execution_count": 22,
   "id": "036a6f1a-218a-4f1d-903c-417c92a1f093",
   "metadata": {},
   "outputs": [
    {
     "data": {
      "text/plain": [
       "<AxesSubplot:xlabel='serious_accident', ylabel='count'>"
      ]
     },
     "execution_count": 22,
     "metadata": {},
     "output_type": "execute_result"
    },
    {
     "data": {
      "image/png": "[encoded data removed]",
      "text/plain": [
       "<Figure size 432x288 with 1 Axes>"
      ]
     },
     "metadata": {
      "needs_background": "light"
     },
     "output_type": "display_data"
    }
   ],
   "source": [
    "# Check cless imbalances\n",
    "\n",
    "sns.countplot(x='serious_accident',data=df_downsampled1,\n",
    "               order = df_downsampled1['serious_accident'].value_counts().index)"
   ]
  },
  {
   "cell_type": "code",
   "execution_count": 23,
   "id": "9dab69eb-3157-47a6-8af2-8a88a3378555",
   "metadata": {},
   "outputs": [
    {
     "data": {
      "text/plain": [
       "False    411137\n",
       "True     411137\n",
       "Name: serious_accident, dtype: int64"
      ]
     },
     "execution_count": 23,
     "metadata": {},
     "output_type": "execute_result"
    }
   ],
   "source": [
    "# Check downsampled counts\n",
    "df_downsampled1.serious_accident.value_counts()"
   ]
  },
  {
   "cell_type": "code",
   "execution_count": 24,
   "id": "80f7fa61-8efc-40f3-84d7-5627b00bb267",
   "metadata": {},
   "outputs": [
    {
     "data": {
      "text/plain": [
       "Index(['borough', 'zip_code', 'latitude', 'longitude', 'on_street_name',\n",
       "       'cross_street_name', 'off_street_name', 'contributing_factor_vehicle_1',\n",
       "       'contributing_factor_vehicle_2', 'vehicle_type_code_1',\n",
       "       'vehicle_type_code_2', 'hour', 'year', 'month', 'day_of_week',\n",
       "       'serious_accident'],\n",
       "      dtype='object')"
      ]
     },
     "execution_count": 24,
     "metadata": {},
     "output_type": "execute_result"
    }
   ],
   "source": [
    "df_downsampled1.columns"
   ]
  },
  {
   "cell_type": "markdown",
   "id": "92c513ea-d9dd-4313-beb8-029222f7f43d",
   "metadata": {},
   "source": [
    "# AdaBoost Classification Model"
   ]
  },
  {
   "cell_type": "code",
   "execution_count": 21,
   "id": "563a21f2-7ec8-47fc-bedc-743874649727",
   "metadata": {
    "collapsed": true,
    "jupyter": {
     "outputs_hidden": true
    },
    "tags": []
   },
   "outputs": [
    {
     "name": "stdout",
     "output_type": "stream",
     "text": [
      "On Street unique value:  ['' 'WEST 145 STREET                 ' 'VAN WYCK EXPWY                  '\n",
      " ... 'SUMMERFIELD PLACE               ' 'KNOLLS CRESCENT                 '\n",
      " 'SANDS PLACE                     ']\n",
      "Contact Factor (Veh 1) unique value:  ['Passing or Lane Usage Improper' 'Driver Inattention/Distraction'\n",
      " 'Unsafe Lane Changing' 'Unspecified' 'Unsafe Speed' 'Oversized Vehicle'\n",
      " 'Driverless/Runaway Vehicle' 'Following Too Closely' 'Other Vehicular'\n",
      " 'Pedestrian/Bicyclist/Other Pedestrian Error/Confusion'\n",
      " 'Failure to Yield Right-of-Way' 'Steering Failure' 'Alcohol Involvement'\n",
      " 'Reaction to Uninvolved Vehicle' 'Passenger Distraction'\n",
      " 'View Obstructed/Limited' 'Backing Unsafely' 'Outside Car Distraction'\n",
      " 'Passing Too Closely' 'Turning Improperly' 'Driver Inexperience'\n",
      " 'Brakes Defective' 'Pavement Slippery' 'Animals Action'\n",
      " 'Traffic Control Disregarded' 'Aggressive Driving/Road Rage'\n",
      " 'Fell Asleep' 'Cell Phone (hand-Held)' 'Failure to Keep Right'\n",
      " 'Pavement Defective' 'Physical Disability' 'Tinted Windows'\n",
      " 'Traffic Control Device Improper/Non-Working' 'Fatigued/Drowsy'\n",
      " 'Accelerator Defective' 'Tire Failure/Inadequate' 'Drugs (illegal)'\n",
      " 'Illnes' 'Lane Marking Improper/Inadequate' 'Glare' 'Obstruction/Debris'\n",
      " 'Lost Consciousness' 'Headlights Defective'\n",
      " 'Shoulders Defective/Improper' 'Tow Hitch Defective'\n",
      " 'Other Electronic Device' 'Vehicle Vandalism' '' 'Eating or Drinking'\n",
      " 'Other Lighting Defects' 'Prescription Medication' 'Texting'\n",
      " 'Using On Board Navigation Device' 'Cell Phone (hands-free)'\n",
      " 'Listening/Using Headphones' 'Windshield Inadequate']\n",
      "Vehicle type unique value:  ['Station Wagon/Sport Utility Vehicle' 'Sedan' 'Bus' 'Pick-up Truck'\n",
      " 'Box Truck' 'Taxi' 'Tractor Truck Diesel' 'Dump' 'Bike' 'Motorcycle'\n",
      " 'E-Bike']\n",
      "Month unique value:  [ 7 11  3 12  1  4  8 10  5  9  2  6]\n"
     ]
    }
   ],
   "source": [
    "print('On Street unique value: ', df_downsampled1['on_street'].unique())\n",
    "print('Contact Factor (Veh 1) unique value: ', df_downsampled1['cont_fact_veh1'].unique())\n",
    "print('Vehicle type unique value: ', df_downsampled1['veh_type'].unique())\n",
    "print('Month unique value: ', df_downsampled1['month'].unique())"
   ]
  },
  {
   "cell_type": "code",
   "execution_count": 120,
   "id": "8a15e772-c463-4073-a79d-ff5c59654765",
   "metadata": {},
   "outputs": [],
   "source": [
    "# Drop target predictors \n",
    "# df_upsampled1.drop(['location'], axis=1, inplace=True)"
   ]
  },
  {
   "cell_type": "code",
   "execution_count": 42,
   "id": "b4ea1297-a172-4e45-bd64-f22f1983553b",
   "metadata": {},
   "outputs": [
    {
     "data": {
      "text/plain": [
       "Index(['borough', 'zip_code', 'latitude', 'longitude', 'on_street_name',\n",
       "       'cross_street_name', 'off_street_name', 'contributing_factor_vehicle_1',\n",
       "       'contributing_factor_vehicle_2', 'vehicle_type_code_1',\n",
       "       'vehicle_type_code_2', 'hour', 'year', 'month', 'day_of_week',\n",
       "       'serious_accident'],\n",
       "      dtype='object')"
      ]
     },
     "execution_count": 42,
     "metadata": {},
     "output_type": "execute_result"
    }
   ],
   "source": [
    "df.columns"
   ]
  },
  {
   "cell_type": "code",
   "execution_count": 43,
   "id": "93ef2a57-9d8d-4202-ad5b-f1e301d0ca8a",
   "metadata": {},
   "outputs": [
    {
     "name": "stdout",
     "output_type": "stream",
     "text": [
      "<class 'pandas.core.frame.DataFrame'>\n",
      "Int64Index: 1921661 entries, 0 to 1921678\n",
      "Data columns (total 16 columns):\n",
      " #   Column                         Dtype  \n",
      "---  ------                         -----  \n",
      " 0   borough                        object \n",
      " 1   zip_code                       object \n",
      " 2   latitude                       float64\n",
      " 3   longitude                      float64\n",
      " 4   on_street_name                 object \n",
      " 5   cross_street_name              object \n",
      " 6   off_street_name                object \n",
      " 7   contributing_factor_vehicle_1  object \n",
      " 8   contributing_factor_vehicle_2  object \n",
      " 9   vehicle_type_code_1            object \n",
      " 10  vehicle_type_code_2            object \n",
      " 11  hour                           object \n",
      " 12  year                           int64  \n",
      " 13  month                          int64  \n",
      " 14  day_of_week                    int64  \n",
      " 15  serious_accident               bool   \n",
      "dtypes: bool(1), float64(2), int64(3), object(10)\n",
      "memory usage: 236.4+ MB\n"
     ]
    }
   ],
   "source": [
    "df.info()"
   ]
  },
  {
   "cell_type": "code",
   "execution_count": 25,
   "id": "0179d7e8-4c9c-4746-ba41-235dee53d14c",
   "metadata": {},
   "outputs": [],
   "source": [
    "df_downsampled1['borough'] = df_downsampled1['borough'].astype('str')\n",
    "df_downsampled1['zip_code'] = df_downsampled1['zip_code'].astype('str')\n",
    "df_downsampled1['on_street_name'] = df_downsampled1['on_street_name'].astype('str')\n",
    "df_downsampled1['off_street_name'] = df_downsampled1['off_street_name'].astype('str')\n",
    "df_downsampled1['cross_street_name'] = df_downsampled1['cross_street_name'].astype('str')\n",
    "df_downsampled1['vehicle_type_code_1'] = df_downsampled1['vehicle_type_code_1'].astype('str')\n",
    "df_downsampled1['vehicle_type_code_2'] = df_downsampled1['vehicle_type_code_2'].astype('str')\n",
    "df_downsampled1['contributing_factor_vehicle_1'] = df_downsampled1['contributing_factor_vehicle_1'].astype('str')\n",
    "df_downsampled1['contributing_factor_vehicle_2'] = df_downsampled1['contributing_factor_vehicle_2'].astype('str')"
   ]
  },
  {
   "cell_type": "code",
   "execution_count": 26,
   "id": "7bf9101d-01b2-41cd-9e6b-df4f83731fa1",
   "metadata": {},
   "outputs": [],
   "source": [
    "LE = LabelEncoder()\n",
    "df_downsampled1['borough'] = LE.fit_transform(df_downsampled1['borough'])\n",
    "df_downsampled1['zip_code'] = LE.fit_transform(df_downsampled1['zip_code'])\n",
    "df_downsampled1['on_street_name'] = LE.fit_transform(df_downsampled1['on_street_name'])\n",
    "df_downsampled1['off_street_name'] = LE.fit_transform(df_downsampled1['off_street_name'])\n",
    "df_downsampled1['cross_street_name'] = LE.fit_transform(df_downsampled1['cross_street_name'])\n",
    "df_downsampled1['vehicle_type_code_1'] = LE.fit_transform(df_downsampled1['vehicle_type_code_1'])\n",
    "df_downsampled1['vehicle_type_code_2'] = LE.fit_transform(df_downsampled1['vehicle_type_code_2'])\n",
    "df_downsampled1['contributing_factor_vehicle_1'] = LE.fit_transform(df_downsampled1['contributing_factor_vehicle_1'])\n",
    "df_downsampled1['contributing_factor_vehicle_2'] = LE.fit_transform(df_downsampled1['contributing_factor_vehicle_2'])\n"
   ]
  },
  {
   "cell_type": "code",
   "execution_count": 27,
   "id": "dede4910-7f0a-4199-a1a3-5d6103290d6a",
   "metadata": {},
   "outputs": [
    {
     "data": {
      "text/html": [
       "<div>\n",
       "<style scoped>\n",
       "    .dataframe tbody tr th:only-of-type {\n",
       "        vertical-align: middle;\n",
       "    }\n",
       "\n",
       "    .dataframe tbody tr th {\n",
       "        vertical-align: top;\n",
       "    }\n",
       "\n",
       "    .dataframe thead th {\n",
       "        text-align: right;\n",
       "    }\n",
       "</style>\n",
       "<table border=\"1\" class=\"dataframe\">\n",
       "  <thead>\n",
       "    <tr style=\"text-align: right;\">\n",
       "      <th></th>\n",
       "      <th>borough</th>\n",
       "      <th>zip_code</th>\n",
       "      <th>latitude</th>\n",
       "      <th>longitude</th>\n",
       "      <th>on_street_name</th>\n",
       "      <th>cross_street_name</th>\n",
       "      <th>off_street_name</th>\n",
       "      <th>contributing_factor_vehicle_1</th>\n",
       "      <th>contributing_factor_vehicle_2</th>\n",
       "      <th>vehicle_type_code_1</th>\n",
       "      <th>vehicle_type_code_2</th>\n",
       "      <th>hour</th>\n",
       "      <th>year</th>\n",
       "      <th>month</th>\n",
       "      <th>day_of_week</th>\n",
       "      <th>serious_accident</th>\n",
       "    </tr>\n",
       "  </thead>\n",
       "  <tbody>\n",
       "    <tr>\n",
       "      <th>406910</th>\n",
       "      <td>1</td>\n",
       "      <td>145</td>\n",
       "      <td>40.627090</td>\n",
       "      <td>-73.944030</td>\n",
       "      <td>2171</td>\n",
       "      <td>9939</td>\n",
       "      <td>85540</td>\n",
       "      <td>18</td>\n",
       "      <td>57</td>\n",
       "      <td>528</td>\n",
       "      <td>604</td>\n",
       "      <td>11</td>\n",
       "      <td>2019</td>\n",
       "      <td>6</td>\n",
       "      <td>3</td>\n",
       "      <td>False</td>\n",
       "    </tr>\n",
       "    <tr>\n",
       "      <th>384051</th>\n",
       "      <td>3</td>\n",
       "      <td>1</td>\n",
       "      <td>40.725750</td>\n",
       "      <td>-73.831260</td>\n",
       "      <td>10801</td>\n",
       "      <td>10159</td>\n",
       "      <td>85540</td>\n",
       "      <td>11</td>\n",
       "      <td>57</td>\n",
       "      <td>538</td>\n",
       "      <td>618</td>\n",
       "      <td>17</td>\n",
       "      <td>2019</td>\n",
       "      <td>7</td>\n",
       "      <td>1</td>\n",
       "      <td>False</td>\n",
       "    </tr>\n",
       "    <tr>\n",
       "      <th>187494</th>\n",
       "      <td>3</td>\n",
       "      <td>1</td>\n",
       "      <td>40.722584</td>\n",
       "      <td>-73.850900</td>\n",
       "      <td>11796</td>\n",
       "      <td>3616</td>\n",
       "      <td>85540</td>\n",
       "      <td>57</td>\n",
       "      <td>57</td>\n",
       "      <td>528</td>\n",
       "      <td>604</td>\n",
       "      <td>19</td>\n",
       "      <td>2021</td>\n",
       "      <td>10</td>\n",
       "      <td>5</td>\n",
       "      <td>False</td>\n",
       "    </tr>\n",
       "    <tr>\n",
       "      <th>165946</th>\n",
       "      <td>4</td>\n",
       "      <td>204</td>\n",
       "      <td>40.677550</td>\n",
       "      <td>-73.744660</td>\n",
       "      <td>8471</td>\n",
       "      <td>10159</td>\n",
       "      <td>32283</td>\n",
       "      <td>57</td>\n",
       "      <td>57</td>\n",
       "      <td>538</td>\n",
       "      <td>604</td>\n",
       "      <td>16</td>\n",
       "      <td>2020</td>\n",
       "      <td>4</td>\n",
       "      <td>3</td>\n",
       "      <td>False</td>\n",
       "    </tr>\n",
       "    <tr>\n",
       "      <th>1716583</th>\n",
       "      <td>4</td>\n",
       "      <td>212</td>\n",
       "      <td>40.692518</td>\n",
       "      <td>-73.859097</td>\n",
       "      <td>6799</td>\n",
       "      <td>1810</td>\n",
       "      <td>85540</td>\n",
       "      <td>57</td>\n",
       "      <td>57</td>\n",
       "      <td>417</td>\n",
       "      <td>473</td>\n",
       "      <td>15</td>\n",
       "      <td>2013</td>\n",
       "      <td>7</td>\n",
       "      <td>5</td>\n",
       "      <td>False</td>\n",
       "    </tr>\n",
       "    <tr>\n",
       "      <th>...</th>\n",
       "      <td>...</td>\n",
       "      <td>...</td>\n",
       "      <td>...</td>\n",
       "      <td>...</td>\n",
       "      <td>...</td>\n",
       "      <td>...</td>\n",
       "      <td>...</td>\n",
       "      <td>...</td>\n",
       "      <td>...</td>\n",
       "      <td>...</td>\n",
       "      <td>...</td>\n",
       "      <td>...</td>\n",
       "      <td>...</td>\n",
       "      <td>...</td>\n",
       "      <td>...</td>\n",
       "      <td>...</td>\n",
       "    </tr>\n",
       "    <tr>\n",
       "      <th>1921664</th>\n",
       "      <td>1</td>\n",
       "      <td>147</td>\n",
       "      <td>40.661997</td>\n",
       "      <td>-73.919593</td>\n",
       "      <td>5045</td>\n",
       "      <td>8399</td>\n",
       "      <td>85540</td>\n",
       "      <td>57</td>\n",
       "      <td>29</td>\n",
       "      <td>508</td>\n",
       "      <td>456</td>\n",
       "      <td>15</td>\n",
       "      <td>2012</td>\n",
       "      <td>7</td>\n",
       "      <td>1</td>\n",
       "      <td>True</td>\n",
       "    </tr>\n",
       "    <tr>\n",
       "      <th>1921665</th>\n",
       "      <td>4</td>\n",
       "      <td>131</td>\n",
       "      <td>40.767228</td>\n",
       "      <td>-73.918907</td>\n",
       "      <td>1041</td>\n",
       "      <td>1041</td>\n",
       "      <td>85540</td>\n",
       "      <td>11</td>\n",
       "      <td>29</td>\n",
       "      <td>417</td>\n",
       "      <td>456</td>\n",
       "      <td>15</td>\n",
       "      <td>2012</td>\n",
       "      <td>7</td>\n",
       "      <td>6</td>\n",
       "      <td>True</td>\n",
       "    </tr>\n",
       "    <tr>\n",
       "      <th>1921669</th>\n",
       "      <td>1</td>\n",
       "      <td>167</td>\n",
       "      <td>40.677288</td>\n",
       "      <td>-73.928227</td>\n",
       "      <td>2123</td>\n",
       "      <td>7911</td>\n",
       "      <td>85540</td>\n",
       "      <td>11</td>\n",
       "      <td>57</td>\n",
       "      <td>508</td>\n",
       "      <td>61</td>\n",
       "      <td>18</td>\n",
       "      <td>2012</td>\n",
       "      <td>7</td>\n",
       "      <td>0</td>\n",
       "      <td>True</td>\n",
       "    </tr>\n",
       "    <tr>\n",
       "      <th>1921671</th>\n",
       "      <td>1</td>\n",
       "      <td>153</td>\n",
       "      <td>40.636133</td>\n",
       "      <td>-73.972736</td>\n",
       "      <td>4297</td>\n",
       "      <td>10215</td>\n",
       "      <td>85540</td>\n",
       "      <td>57</td>\n",
       "      <td>57</td>\n",
       "      <td>417</td>\n",
       "      <td>41</td>\n",
       "      <td>0</td>\n",
       "      <td>2012</td>\n",
       "      <td>7</td>\n",
       "      <td>0</td>\n",
       "      <td>True</td>\n",
       "    </tr>\n",
       "    <tr>\n",
       "      <th>1921675</th>\n",
       "      <td>4</td>\n",
       "      <td>131</td>\n",
       "      <td>40.774711</td>\n",
       "      <td>-73.933386</td>\n",
       "      <td>942</td>\n",
       "      <td>1212</td>\n",
       "      <td>85540</td>\n",
       "      <td>18</td>\n",
       "      <td>57</td>\n",
       "      <td>417</td>\n",
       "      <td>580</td>\n",
       "      <td>17</td>\n",
       "      <td>2012</td>\n",
       "      <td>7</td>\n",
       "      <td>1</td>\n",
       "      <td>True</td>\n",
       "    </tr>\n",
       "  </tbody>\n",
       "</table>\n",
       "<p>822274 rows × 16 columns</p>\n",
       "</div>"
      ],
      "text/plain": [
       "         borough  zip_code   latitude  longitude  on_street_name  \\\n",
       "406910         1       145  40.627090 -73.944030            2171   \n",
       "384051         3         1  40.725750 -73.831260           10801   \n",
       "187494         3         1  40.722584 -73.850900           11796   \n",
       "165946         4       204  40.677550 -73.744660            8471   \n",
       "1716583        4       212  40.692518 -73.859097            6799   \n",
       "...          ...       ...        ...        ...             ...   \n",
       "1921664        1       147  40.661997 -73.919593            5045   \n",
       "1921665        4       131  40.767228 -73.918907            1041   \n",
       "1921669        1       167  40.677288 -73.928227            2123   \n",
       "1921671        1       153  40.636133 -73.972736            4297   \n",
       "1921675        4       131  40.774711 -73.933386             942   \n",
       "\n",
       "         cross_street_name  off_street_name  contributing_factor_vehicle_1  \\\n",
       "406910                9939            85540                             18   \n",
       "384051               10159            85540                             11   \n",
       "187494                3616            85540                             57   \n",
       "165946               10159            32283                             57   \n",
       "1716583               1810            85540                             57   \n",
       "...                    ...              ...                            ...   \n",
       "1921664               8399            85540                             57   \n",
       "1921665               1041            85540                             11   \n",
       "1921669               7911            85540                             11   \n",
       "1921671              10215            85540                             57   \n",
       "1921675               1212            85540                             18   \n",
       "\n",
       "         contributing_factor_vehicle_2  vehicle_type_code_1  \\\n",
       "406910                              57                  528   \n",
       "384051                              57                  538   \n",
       "187494                              57                  528   \n",
       "165946                              57                  538   \n",
       "1716583                             57                  417   \n",
       "...                                ...                  ...   \n",
       "1921664                             29                  508   \n",
       "1921665                             29                  417   \n",
       "1921669                             57                  508   \n",
       "1921671                             57                  417   \n",
       "1921675                             57                  417   \n",
       "\n",
       "         vehicle_type_code_2 hour  year  month  day_of_week  serious_accident  \n",
       "406910                   604   11  2019      6            3             False  \n",
       "384051                   618   17  2019      7            1             False  \n",
       "187494                   604   19  2021     10            5             False  \n",
       "165946                   604   16  2020      4            3             False  \n",
       "1716583                  473   15  2013      7            5             False  \n",
       "...                      ...  ...   ...    ...          ...               ...  \n",
       "1921664                  456   15  2012      7            1              True  \n",
       "1921665                  456   15  2012      7            6              True  \n",
       "1921669                   61   18  2012      7            0              True  \n",
       "1921671                   41    0  2012      7            0              True  \n",
       "1921675                  580   17  2012      7            1              True  \n",
       "\n",
       "[822274 rows x 16 columns]"
      ]
     },
     "execution_count": 27,
     "metadata": {},
     "output_type": "execute_result"
    }
   ],
   "source": [
    "df_downsampled1"
   ]
  },
  {
   "cell_type": "code",
   "execution_count": 28,
   "id": "9126b9f1-5b74-4b5e-ad23-4cc67eb0e2a3",
   "metadata": {},
   "outputs": [
    {
     "data": {
      "image/png": "[encoded data removed]",
      "text/plain": [
       "<Figure size 1152x648 with 2 Axes>"
      ]
     },
     "metadata": {
      "needs_background": "light"
     },
     "output_type": "display_data"
    }
   ],
   "source": [
    "plt.figure(figsize=(16,9))\n",
    "ax = sns.heatmap(df_downsampled1.corr(), annot=True)\n",
    "plt.show()"
   ]
  },
  {
   "cell_type": "code",
   "execution_count": 29,
   "id": "29c02d5e-eb8f-4abf-b6b3-0db8d28ba60a",
   "metadata": {},
   "outputs": [
    {
     "data": {
      "text/plain": [
       "borough                          0\n",
       "zip_code                         0\n",
       "latitude                         0\n",
       "longitude                        0\n",
       "on_street_name                   0\n",
       "cross_street_name                0\n",
       "off_street_name                  0\n",
       "contributing_factor_vehicle_1    0\n",
       "contributing_factor_vehicle_2    0\n",
       "vehicle_type_code_1              0\n",
       "vehicle_type_code_2              0\n",
       "hour                             0\n",
       "year                             0\n",
       "month                            0\n",
       "day_of_week                      0\n",
       "serious_accident                 0\n",
       "dtype: int64"
      ]
     },
     "execution_count": 29,
     "metadata": {},
     "output_type": "execute_result"
    }
   ],
   "source": [
    "df_downsampled1.isna().sum()"
   ]
  },
  {
   "cell_type": "code",
   "execution_count": 30,
   "id": "12bbd930-25d9-4eab-ae5e-d0c1aa2c301f",
   "metadata": {},
   "outputs": [],
   "source": [
    "x = df_downsampled1.drop('serious_accident', axis=1)\n",
    "y = df_downsampled1['serious_accident']"
   ]
  },
  {
   "cell_type": "code",
   "execution_count": 31,
   "id": "abcd34ce-55bc-4bdf-a1f6-05a81b06f941",
   "metadata": {},
   "outputs": [
    {
     "data": {
      "text/html": [
       "<div>\n",
       "<style scoped>\n",
       "    .dataframe tbody tr th:only-of-type {\n",
       "        vertical-align: middle;\n",
       "    }\n",
       "\n",
       "    .dataframe tbody tr th {\n",
       "        vertical-align: top;\n",
       "    }\n",
       "\n",
       "    .dataframe thead th {\n",
       "        text-align: right;\n",
       "    }\n",
       "</style>\n",
       "<table border=\"1\" class=\"dataframe\">\n",
       "  <thead>\n",
       "    <tr style=\"text-align: right;\">\n",
       "      <th></th>\n",
       "      <th>borough</th>\n",
       "      <th>zip_code</th>\n",
       "      <th>latitude</th>\n",
       "      <th>longitude</th>\n",
       "      <th>on_street_name</th>\n",
       "      <th>cross_street_name</th>\n",
       "      <th>off_street_name</th>\n",
       "      <th>contributing_factor_vehicle_1</th>\n",
       "      <th>contributing_factor_vehicle_2</th>\n",
       "      <th>vehicle_type_code_1</th>\n",
       "      <th>vehicle_type_code_2</th>\n",
       "      <th>hour</th>\n",
       "      <th>year</th>\n",
       "      <th>month</th>\n",
       "      <th>day_of_week</th>\n",
       "    </tr>\n",
       "  </thead>\n",
       "  <tbody>\n",
       "    <tr>\n",
       "      <th>358617</th>\n",
       "      <td>3</td>\n",
       "      <td>1</td>\n",
       "      <td>40.808784</td>\n",
       "      <td>-73.934790</td>\n",
       "      <td>6251</td>\n",
       "      <td>10159</td>\n",
       "      <td>85540</td>\n",
       "      <td>45</td>\n",
       "      <td>60</td>\n",
       "      <td>538</td>\n",
       "      <td>604</td>\n",
       "      <td>15</td>\n",
       "      <td>2019</td>\n",
       "      <td>8</td>\n",
       "      <td>4</td>\n",
       "    </tr>\n",
       "    <tr>\n",
       "      <th>333653</th>\n",
       "      <td>3</td>\n",
       "      <td>1</td>\n",
       "      <td>40.806408</td>\n",
       "      <td>-73.940160</td>\n",
       "      <td>4591</td>\n",
       "      <td>10159</td>\n",
       "      <td>85540</td>\n",
       "      <td>21</td>\n",
       "      <td>57</td>\n",
       "      <td>528</td>\n",
       "      <td>604</td>\n",
       "      <td>19</td>\n",
       "      <td>2022</td>\n",
       "      <td>4</td>\n",
       "      <td>5</td>\n",
       "    </tr>\n",
       "    <tr>\n",
       "      <th>578291</th>\n",
       "      <td>2</td>\n",
       "      <td>62</td>\n",
       "      <td>40.779434</td>\n",
       "      <td>-73.947520</td>\n",
       "      <td>4</td>\n",
       "      <td>5907</td>\n",
       "      <td>85540</td>\n",
       "      <td>18</td>\n",
       "      <td>57</td>\n",
       "      <td>528</td>\n",
       "      <td>70</td>\n",
       "      <td>14</td>\n",
       "      <td>2018</td>\n",
       "      <td>9</td>\n",
       "      <td>3</td>\n",
       "    </tr>\n",
       "    <tr>\n",
       "      <th>1803451</th>\n",
       "      <td>1</td>\n",
       "      <td>144</td>\n",
       "      <td>40.619749</td>\n",
       "      <td>-74.027715</td>\n",
       "      <td>1755</td>\n",
       "      <td>1338</td>\n",
       "      <td>85540</td>\n",
       "      <td>28</td>\n",
       "      <td>28</td>\n",
       "      <td>60</td>\n",
       "      <td>473</td>\n",
       "      <td>13</td>\n",
       "      <td>2013</td>\n",
       "      <td>2</td>\n",
       "      <td>5</td>\n",
       "    </tr>\n",
       "    <tr>\n",
       "      <th>1495258</th>\n",
       "      <td>3</td>\n",
       "      <td>1</td>\n",
       "      <td>40.840827</td>\n",
       "      <td>-73.945958</td>\n",
       "      <td>9315</td>\n",
       "      <td>5212</td>\n",
       "      <td>85540</td>\n",
       "      <td>4</td>\n",
       "      <td>34</td>\n",
       "      <td>417</td>\n",
       "      <td>473</td>\n",
       "      <td>16</td>\n",
       "      <td>2014</td>\n",
       "      <td>8</td>\n",
       "      <td>2</td>\n",
       "    </tr>\n",
       "  </tbody>\n",
       "</table>\n",
       "</div>"
      ],
      "text/plain": [
       "         borough  zip_code   latitude  longitude  on_street_name  \\\n",
       "358617         3         1  40.808784 -73.934790            6251   \n",
       "333653         3         1  40.806408 -73.940160            4591   \n",
       "578291         2        62  40.779434 -73.947520               4   \n",
       "1803451        1       144  40.619749 -74.027715            1755   \n",
       "1495258        3         1  40.840827 -73.945958            9315   \n",
       "\n",
       "         cross_street_name  off_street_name  contributing_factor_vehicle_1  \\\n",
       "358617               10159            85540                             45   \n",
       "333653               10159            85540                             21   \n",
       "578291                5907            85540                             18   \n",
       "1803451               1338            85540                             28   \n",
       "1495258               5212            85540                              4   \n",
       "\n",
       "         contributing_factor_vehicle_2  vehicle_type_code_1  \\\n",
       "358617                              60                  538   \n",
       "333653                              57                  528   \n",
       "578291                              57                  528   \n",
       "1803451                             28                   60   \n",
       "1495258                             34                  417   \n",
       "\n",
       "         vehicle_type_code_2 hour  year  month  day_of_week  \n",
       "358617                   604   15  2019      8            4  \n",
       "333653                   604   19  2022      4            5  \n",
       "578291                    70   14  2018      9            3  \n",
       "1803451                  473   13  2013      2            5  \n",
       "1495258                  473   16  2014      8            2  "
      ]
     },
     "execution_count": 31,
     "metadata": {},
     "output_type": "execute_result"
    }
   ],
   "source": [
    "from sklearn.model_selection import train_test_split\n",
    "\n",
    "x_train2, x_test2 , y_train2 ,y_test2 = train_test_split(x,y,test_size =0.3, random_state=5)\n",
    "\n",
    "# print the data\n",
    "x_train2.head()"
   ]
  },
  {
   "cell_type": "code",
   "execution_count": 32,
   "id": "19172a62-a846-476f-b165-eab64cfe9df3",
   "metadata": {},
   "outputs": [
    {
     "name": "stdout",
     "output_type": "stream",
     "text": [
      "x_train:  (575591, 15)\n",
      "x_test:  (246683, 15)\n",
      "y_train:  (575591,)\n",
      "y_test:  (246683,)\n"
     ]
    }
   ],
   "source": [
    "print('x_train: ', x_train2.shape)\n",
    "print('x_test: ', x_test2.shape)\n",
    "print('y_train: ', y_train2.shape)\n",
    "print('y_test: ', y_test2.shape)"
   ]
  },
  {
   "cell_type": "code",
   "execution_count": 33,
   "id": "f48a6ea0-5dfd-4126-8d2b-e2bed2cc59b7",
   "metadata": {},
   "outputs": [],
   "source": [
    "from sklearn.ensemble import AdaBoostClassifier\n",
    "ada3 = AdaBoostClassifier(n_estimators=1000, learning_rate=0.1, random_state=10)\n",
    "model3 = ada3.fit(x_train2,y_train2)"
   ]
  },
  {
   "cell_type": "code",
   "execution_count": 34,
   "id": "cec5bc03-38f7-4958-8acf-894737d22c8c",
   "metadata": {},
   "outputs": [
    {
     "data": {
      "text/plain": [
       "array([ True, False, False, ...,  True, False,  True])"
      ]
     },
     "execution_count": 34,
     "metadata": {},
     "output_type": "execute_result"
    }
   ],
   "source": [
    "pred3 = model3.predict(x_test2)\n",
    "pred3"
   ]
  },
  {
   "cell_type": "code",
   "execution_count": 35,
   "id": "a73550dd-7a84-4b99-85e1-1ca6e28dc2ad",
   "metadata": {},
   "outputs": [
    {
     "data": {
      "text/plain": [
       "67.51377273667015"
      ]
     },
     "execution_count": 35,
     "metadata": {},
     "output_type": "execute_result"
    }
   ],
   "source": [
    "from sklearn.metrics import accuracy_score\n",
    "accuracy_score(y_test2, pred3)*100"
   ]
  },
  {
   "cell_type": "code",
   "execution_count": 36,
   "id": "d5d619a7-d434-4c28-a0fc-2ac99f446ddf",
   "metadata": {},
   "outputs": [
    {
     "name": "stdout",
     "output_type": "stream",
     "text": [
      "              precision    recall  f1-score   support\n",
      "\n",
      "       False       0.65      0.74      0.70    123286\n",
      "        True       0.70      0.61      0.65    123397\n",
      "\n",
      "    accuracy                           0.68    246683\n",
      "   macro avg       0.68      0.68      0.67    246683\n",
      "weighted avg       0.68      0.68      0.67    246683\n",
      "\n"
     ]
    }
   ],
   "source": [
    "from sklearn.metrics import classification_report\n",
    "#print classification report for model\n",
    "print(classification_report(y_test2, pred3))"
   ]
  },
  {
   "cell_type": "code",
   "execution_count": 39,
   "id": "097ca79c-ab04-43d1-9c75-2d5fe90d807e",
   "metadata": {},
   "outputs": [
    {
     "data": {
      "text/plain": [
       "<AxesSubplot:>"
      ]
     },
     "execution_count": 39,
     "metadata": {},
     "output_type": "execute_result"
    },
    {
     "data": {
      "image/png": "[encoded data removed]",
      "text/plain": [
       "<Figure size 432x288 with 1 Axes>"
      ]
     },
     "metadata": {
      "needs_background": "light"
     },
     "output_type": "display_data"
    }
   ],
   "source": [
    "feat_importances = pd.Series(model3.feature_importances_, index=x.columns)\n",
    "feat_importances.nlargest(20).plot(kind='barh')"
   ]
  },
  {
   "cell_type": "markdown",
   "id": "7cb21482-c2ed-4d1d-af5f-8f454d62af6a",
   "metadata": {},
   "source": [
    "### AdaBoost Classifier - Tune Parameters"
   ]
  },
  {
   "cell_type": "code",
   "execution_count": 42,
   "id": "8e7d21ba-6769-4e96-b7ff-297a7572b385",
   "metadata": {},
   "outputs": [],
   "source": [
    "from sklearn.ensemble import AdaBoostClassifier\n",
    "ada5 = AdaBoostClassifier(n_estimators=3000, learning_rate=0.1, random_state=10)\n",
    "model5 = ada5.fit(x_train2,y_train2)"
   ]
  },
  {
   "cell_type": "code",
   "execution_count": 44,
   "id": "0d4044e4-df18-4dc3-9397-8d410da1d67b",
   "metadata": {},
   "outputs": [
    {
     "data": {
      "text/plain": [
       "array([ True, False, False, ...,  True, False, False])"
      ]
     },
     "execution_count": 44,
     "metadata": {},
     "output_type": "execute_result"
    }
   ],
   "source": [
    "pred5 = model5.predict(x_test2)\n",
    "pred5"
   ]
  },
  {
   "cell_type": "code",
   "execution_count": 46,
   "id": "cf44a924-28d1-447e-b702-27f2b38bb284",
   "metadata": {},
   "outputs": [
    {
     "data": {
      "text/plain": [
       "68.65410263374451"
      ]
     },
     "execution_count": 46,
     "metadata": {},
     "output_type": "execute_result"
    }
   ],
   "source": [
    "from sklearn.metrics import accuracy_score\n",
    "accuracy_score(y_test2, pred5)*100"
   ]
  },
  {
   "cell_type": "code",
   "execution_count": 47,
   "id": "97004731-3865-445e-9cef-0e5fd4c4653e",
   "metadata": {},
   "outputs": [
    {
     "name": "stdout",
     "output_type": "stream",
     "text": [
      "              precision    recall  f1-score   support\n",
      "\n",
      "       False       0.67      0.74      0.70    123286\n",
      "        True       0.71      0.63      0.67    123397\n",
      "\n",
      "    accuracy                           0.69    246683\n",
      "   macro avg       0.69      0.69      0.69    246683\n",
      "weighted avg       0.69      0.69      0.69    246683\n",
      "\n"
     ]
    }
   ],
   "source": [
    "from sklearn.metrics import classification_report\n",
    "#print classification report for model\n",
    "print(classification_report(y_test2, pred5))"
   ]
  },
  {
   "cell_type": "code",
   "execution_count": 55,
   "id": "4a583b30-d9f3-4292-99d2-e89c36d5592f",
   "metadata": {},
   "outputs": [],
   "source": [
    "# Convert data types\n",
    "x_test2 = x_test2.astype({\"borough\": int, \"latitude\": float, \"longitude\":float, \"on_street_name\":int, \"off_street_name\":int, \"cross_street_name\": int, \"contributing_factor_vehicle_1\":int, \"contributing_factor_vehicle_1\": int,\"vehicle_type_code_1\":int, \"vehicle_type_code_2\":int, \"hour\":int})\n"
   ]
  },
  {
   "cell_type": "code",
   "execution_count": 56,
   "id": "90bf0d11-5eff-4d63-855b-ed58f679fbe5",
   "metadata": {},
   "outputs": [],
   "source": [
    "# Convert data types on train set\n",
    "\n",
    "x_train2 = x_train2.astype({\"borough\": int, \"latitude\": float, \"longitude\":float, \"on_street_name\":int, \"off_street_name\":int, \"cross_street_name\": int, \"contributing_factor_vehicle_1\":int, \"contributing_factor_vehicle_1\": int,\"vehicle_type_code_1\":int, \"vehicle_type_code_2\":int, \"hour\":int})\n"
   ]
  },
  {
   "cell_type": "markdown",
   "id": "3414b533-8b3c-4182-9c48-10424fbca020",
   "metadata": {},
   "source": [
    "## Logistic Regression, XGBoost, Random Forest Classifier"
   ]
  },
  {
   "cell_type": "code",
   "execution_count": 72,
   "id": "800e6ef4-1352-4b77-a8c0-4419442fdf02",
   "metadata": {
    "tags": []
   },
   "outputs": [
    {
     "name": "stdout",
     "output_type": "stream",
     "text": [
      "10.0035812628878\n"
     ]
    }
   ],
   "source": [
    "import xgboost as xgb\n",
    "from sklearn.metrics import log_loss\n",
    " \n",
    "# importing machine learning models for prediction\n",
    "from sklearn.ensemble import RandomForestClassifier\n",
    "from xgboost import XGBClassifier\n",
    "from sklearn.linear_model import LogisticRegression\n",
    " \n",
    "# importing voting classifier\n",
    "from sklearn.ensemble import VotingClassifier\n",
    "# initializing all the model objects with default parameters\n",
    "model_1 = LogisticRegression()\n",
    "model_2 = XGBClassifier()\n",
    "model_3 = RandomForestClassifier()\n",
    " \n",
    "# Making the final model using voting classifier\n",
    "final_model2 = VotingClassifier(\n",
    "    estimators=[('lr', model_1), ('xgb', model_2), ('rf', model_3)], voting='soft')\n",
    "\n",
    "#ensemble = VotingClassifier(estimators,voting='soft')"
   ]
  },
  {
   "cell_type": "code",
   "execution_count": 59,
   "id": "2ea77471-61ff-49ff-bb3c-cc8c6af332e1",
   "metadata": {},
   "outputs": [
    {
     "name": "stdout",
     "output_type": "stream",
     "text": [
      "Accuracy: 0.7104137698990202\n"
     ]
    }
   ],
   "source": [
    "#Import scikit-learn metrics module for accuracy calculation\n",
    "from sklearn import metrics\n",
    "# Model Accuracy, how often is the classifier correct?\n",
    "print(\"Accuracy:\",metrics.accuracy_score(y_test2, pred_final))"
   ]
  },
  {
   "cell_type": "code",
   "execution_count": 65,
   "id": "e912a632-fd78-40dc-be3c-73f78ebd6cff",
   "metadata": {},
   "outputs": [
    {
     "name": "stdout",
     "output_type": "stream",
     "text": [
      "              precision    recall  f1-score   support\n",
      "\n",
      "       False       0.68      0.78      0.73    123286\n",
      "        True       0.75      0.64      0.69    123397\n",
      "\n",
      "    accuracy                           0.71    246683\n",
      "   macro avg       0.71      0.71      0.71    246683\n",
      "weighted avg       0.71      0.71      0.71    246683\n",
      "\n"
     ]
    }
   ],
   "source": [
    "from sklearn.metrics import classification_report\n",
    "#print classification report for model\n",
    "print(classification_report(y_test2, pred_final))"
   ]
  },
  {
   "cell_type": "markdown",
   "id": "c75003d2-992c-45f6-bc74-47c009112e20",
   "metadata": {},
   "source": [
    "##### Voting Classifier Tuned (level=soft)"
   ]
  },
  {
   "cell_type": "code",
   "execution_count": 74,
   "id": "94cf4a1a-658b-47a6-af93-4f94f5f9d25f",
   "metadata": {},
   "outputs": [
    {
     "name": "stdout",
     "output_type": "stream",
     "text": [
      "9.879111330244612\n"
     ]
    }
   ],
   "source": [
    " \n",
    "# training all the model on the train dataset\n",
    "final_model2.fit(x_train2, y_train2)\n",
    " \n",
    "# predicting the output on the test dataset\n",
    "pred_final2 = final_model2.predict(x_test2)\n",
    " \n",
    "# printing log loss between actual and predicted value\n",
    "print(log_loss(y_test2, pred_final2))"
   ]
  },
  {
   "cell_type": "code",
   "execution_count": 77,
   "id": "5785d557-c7e9-4ec2-8588-32b357c6341c",
   "metadata": {},
   "outputs": [
    {
     "name": "stdout",
     "output_type": "stream",
     "text": [
      "Accuracy: 0.7139729936801482\n"
     ]
    }
   ],
   "source": [
    "#Import scikit-learn metrics module for accuracy calculation\n",
    "from sklearn import metrics\n",
    "# Model Accuracy, how often is the classifier correct?\n",
    "print(\"Accuracy:\",metrics.accuracy_score(y_test2, pred_final2))"
   ]
  },
  {
   "cell_type": "code",
   "execution_count": 76,
   "id": "4873ccac-3d55-40a7-bb24-19402377f743",
   "metadata": {},
   "outputs": [
    {
     "name": "stdout",
     "output_type": "stream",
     "text": [
      "              precision    recall  f1-score   support\n",
      "\n",
      "       False       0.69      0.78      0.73    123286\n",
      "        True       0.75      0.65      0.69    123397\n",
      "\n",
      "    accuracy                           0.71    246683\n",
      "   macro avg       0.72      0.71      0.71    246683\n",
      "weighted avg       0.72      0.71      0.71    246683\n",
      "\n"
     ]
    }
   ],
   "source": [
    "from sklearn.metrics import classification_report\n",
    "#print classification report for model\n",
    "print(classification_report(y_test2, pred_final2))"
   ]
  },
  {
   "cell_type": "code",
   "execution_count": 75,
   "id": "faa77c22-65d1-4baa-ae15-06ac42dff454",
   "metadata": {},
   "outputs": [
    {
     "data": {
      "image/png": "[encoded data removed]",
      "text/plain": [
       "<Figure size 432x288 with 1 Axes>"
      ]
     },
     "metadata": {
      "needs_background": "light"
     },
     "output_type": "display_data"
    }
   ],
   "source": [
    "from sklearn import metrics\n",
    "metrics.plot_roc_curve(final_model2, x_test2, y_test2) \n",
    "plt.show()"
   ]
  },
  {
   "cell_type": "code",
   "execution_count": 69,
   "id": "97cd0aec-dd40-4c76-9164-3c4bece88ea8",
   "metadata": {},
   "outputs": [
    {
     "data": {
      "image/png": "[encoded data removed]",
      "text/plain": [
       "<Figure size 432x288 with 1 Axes>"
      ]
     },
     "metadata": {
      "needs_background": "light"
     },
     "output_type": "display_data"
    }
   ],
   "source": [
    "from sklearn.metrics import (precision_recall_curve, PrecisionRecallDisplay)\n",
    "precision, recall, _ = precision_recall_curve(y_test2, pred_final)\n",
    "disp = PrecisionRecallDisplay(precision=precision, recall=recall)\n",
    "disp.plot()\n",
    "\n",
    "plt.show()"
   ]
  },
  {
   "cell_type": "code",
   "execution_count": 18,
   "id": "afd009c9-709d-4161-ad56-0dbc72dacbde",
   "metadata": {},
   "outputs": [
    {
     "data": {
      "text/plain": [
       "count    395287.000000\n",
       "mean        -73.634704\n",
       "std           4.527111\n",
       "min         -74.253006\n",
       "25%         -73.962540\n",
       "50%         -73.918720\n",
       "75%         -73.861860\n",
       "max           0.000000\n",
       "Name: longitude, dtype: float64"
      ]
     },
     "execution_count": 18,
     "metadata": {},
     "output_type": "execute_result"
    }
   ],
   "source": [
    "df.longitude.describe()"
   ]
  },
  {
   "cell_type": "code",
   "execution_count": 68,
   "id": "bed6a137-a703-4402-a288-d0f368386b5c",
   "metadata": {},
   "outputs": [
    {
     "data": {
      "image/png": "[encoded data removed]",
      "text/plain": [
       "<Figure size 432x288 with 2 Axes>"
      ]
     },
     "metadata": {
      "needs_background": "light"
     },
     "output_type": "display_data"
    }
   ],
   "source": [
    "from sklearn.metrics import plot_confusion_matrix\n",
    "plot_confusion_matrix(final_model, x_test2, y_test2)  \n",
    "plt.show()"
   ]
  },
  {
   "cell_type": "markdown",
   "id": "b71a8241-9086-471b-8ceb-4292d2ca6663",
   "metadata": {},
   "source": [
    "# AutoML/Pycaret: Best Model"
   ]
  },
  {
   "cell_type": "code",
   "execution_count": 82,
   "id": "d3d570a3-b38a-4b50-9347-708a7d51844b",
   "metadata": {},
   "outputs": [],
   "source": [
    "train_data = df_downsampled1.sample(frac=0.95, random_state=95)\n",
    "test_data = df_downsampled1.drop(train_data.index)"
   ]
  },
  {
   "cell_type": "code",
   "execution_count": 83,
   "id": "9af3986b-25d4-4bcc-8bbb-ee4f2d0683fe",
   "metadata": {},
   "outputs": [
    {
     "data": {
      "text/html": [
       "<style type=\"text/css\">\n",
       "#T_70852_row19_col1, #T_70852_row44_col1 {\n",
       "  background-color: lightgreen;\n",
       "}\n",
       "</style>\n",
       "<table id=\"T_70852\">\n",
       "  <thead>\n",
       "    <tr>\n",
       "      <th class=\"blank level0\" >&nbsp;</th>\n",
       "      <th id=\"T_70852_level0_col0\" class=\"col_heading level0 col0\" >Description</th>\n",
       "      <th id=\"T_70852_level0_col1\" class=\"col_heading level0 col1\" >Value</th>\n",
       "    </tr>\n",
       "  </thead>\n",
       "  <tbody>\n",
       "    <tr>\n",
       "      <th id=\"T_70852_level0_row0\" class=\"row_heading level0 row0\" >0</th>\n",
       "      <td id=\"T_70852_row0_col0\" class=\"data row0 col0\" >session_id</td>\n",
       "      <td id=\"T_70852_row0_col1\" class=\"data row0 col1\" >123</td>\n",
       "    </tr>\n",
       "    <tr>\n",
       "      <th id=\"T_70852_level0_row1\" class=\"row_heading level0 row1\" >1</th>\n",
       "      <td id=\"T_70852_row1_col0\" class=\"data row1 col0\" >Target</td>\n",
       "      <td id=\"T_70852_row1_col1\" class=\"data row1 col1\" >serious_accident</td>\n",
       "    </tr>\n",
       "    <tr>\n",
       "      <th id=\"T_70852_level0_row2\" class=\"row_heading level0 row2\" >2</th>\n",
       "      <td id=\"T_70852_row2_col0\" class=\"data row2 col0\" >Target Type</td>\n",
       "      <td id=\"T_70852_row2_col1\" class=\"data row2 col1\" >Binary</td>\n",
       "    </tr>\n",
       "    <tr>\n",
       "      <th id=\"T_70852_level0_row3\" class=\"row_heading level0 row3\" >3</th>\n",
       "      <td id=\"T_70852_row3_col0\" class=\"data row3 col0\" >Label Encoded</td>\n",
       "      <td id=\"T_70852_row3_col1\" class=\"data row3 col1\" >False: 0, True: 1</td>\n",
       "    </tr>\n",
       "    <tr>\n",
       "      <th id=\"T_70852_level0_row4\" class=\"row_heading level0 row4\" >4</th>\n",
       "      <td id=\"T_70852_row4_col0\" class=\"data row4 col0\" >Original Data</td>\n",
       "      <td id=\"T_70852_row4_col1\" class=\"data row4 col1\" >(781160, 16)</td>\n",
       "    </tr>\n",
       "    <tr>\n",
       "      <th id=\"T_70852_level0_row5\" class=\"row_heading level0 row5\" >5</th>\n",
       "      <td id=\"T_70852_row5_col0\" class=\"data row5 col0\" >Missing Values</td>\n",
       "      <td id=\"T_70852_row5_col1\" class=\"data row5 col1\" >False</td>\n",
       "    </tr>\n",
       "    <tr>\n",
       "      <th id=\"T_70852_level0_row6\" class=\"row_heading level0 row6\" >6</th>\n",
       "      <td id=\"T_70852_row6_col0\" class=\"data row6 col0\" >Numeric Features</td>\n",
       "      <td id=\"T_70852_row6_col1\" class=\"data row6 col1\" >11</td>\n",
       "    </tr>\n",
       "    <tr>\n",
       "      <th id=\"T_70852_level0_row7\" class=\"row_heading level0 row7\" >7</th>\n",
       "      <td id=\"T_70852_row7_col0\" class=\"data row7 col0\" >Categorical Features</td>\n",
       "      <td id=\"T_70852_row7_col1\" class=\"data row7 col1\" >4</td>\n",
       "    </tr>\n",
       "    <tr>\n",
       "      <th id=\"T_70852_level0_row8\" class=\"row_heading level0 row8\" >8</th>\n",
       "      <td id=\"T_70852_row8_col0\" class=\"data row8 col0\" >Ordinal Features</td>\n",
       "      <td id=\"T_70852_row8_col1\" class=\"data row8 col1\" >False</td>\n",
       "    </tr>\n",
       "    <tr>\n",
       "      <th id=\"T_70852_level0_row9\" class=\"row_heading level0 row9\" >9</th>\n",
       "      <td id=\"T_70852_row9_col0\" class=\"data row9 col0\" >High Cardinality Features</td>\n",
       "      <td id=\"T_70852_row9_col1\" class=\"data row9 col1\" >False</td>\n",
       "    </tr>\n",
       "    <tr>\n",
       "      <th id=\"T_70852_level0_row10\" class=\"row_heading level0 row10\" >10</th>\n",
       "      <td id=\"T_70852_row10_col0\" class=\"data row10 col0\" >High Cardinality Method</td>\n",
       "      <td id=\"T_70852_row10_col1\" class=\"data row10 col1\" >None</td>\n",
       "    </tr>\n",
       "    <tr>\n",
       "      <th id=\"T_70852_level0_row11\" class=\"row_heading level0 row11\" >11</th>\n",
       "      <td id=\"T_70852_row11_col0\" class=\"data row11 col0\" >Transformed Train Set</td>\n",
       "      <td id=\"T_70852_row11_col1\" class=\"data row11 col1\" >(546811, 47)</td>\n",
       "    </tr>\n",
       "    <tr>\n",
       "      <th id=\"T_70852_level0_row12\" class=\"row_heading level0 row12\" >12</th>\n",
       "      <td id=\"T_70852_row12_col0\" class=\"data row12 col0\" >Transformed Test Set</td>\n",
       "      <td id=\"T_70852_row12_col1\" class=\"data row12 col1\" >(234349, 47)</td>\n",
       "    </tr>\n",
       "    <tr>\n",
       "      <th id=\"T_70852_level0_row13\" class=\"row_heading level0 row13\" >13</th>\n",
       "      <td id=\"T_70852_row13_col0\" class=\"data row13 col0\" >Shuffle Train-Test</td>\n",
       "      <td id=\"T_70852_row13_col1\" class=\"data row13 col1\" >True</td>\n",
       "    </tr>\n",
       "    <tr>\n",
       "      <th id=\"T_70852_level0_row14\" class=\"row_heading level0 row14\" >14</th>\n",
       "      <td id=\"T_70852_row14_col0\" class=\"data row14 col0\" >Stratify Train-Test</td>\n",
       "      <td id=\"T_70852_row14_col1\" class=\"data row14 col1\" >False</td>\n",
       "    </tr>\n",
       "    <tr>\n",
       "      <th id=\"T_70852_level0_row15\" class=\"row_heading level0 row15\" >15</th>\n",
       "      <td id=\"T_70852_row15_col0\" class=\"data row15 col0\" >Fold Generator</td>\n",
       "      <td id=\"T_70852_row15_col1\" class=\"data row15 col1\" >StratifiedKFold</td>\n",
       "    </tr>\n",
       "    <tr>\n",
       "      <th id=\"T_70852_level0_row16\" class=\"row_heading level0 row16\" >16</th>\n",
       "      <td id=\"T_70852_row16_col0\" class=\"data row16 col0\" >Fold Number</td>\n",
       "      <td id=\"T_70852_row16_col1\" class=\"data row16 col1\" >10</td>\n",
       "    </tr>\n",
       "    <tr>\n",
       "      <th id=\"T_70852_level0_row17\" class=\"row_heading level0 row17\" >17</th>\n",
       "      <td id=\"T_70852_row17_col0\" class=\"data row17 col0\" >CPU Jobs</td>\n",
       "      <td id=\"T_70852_row17_col1\" class=\"data row17 col1\" >-1</td>\n",
       "    </tr>\n",
       "    <tr>\n",
       "      <th id=\"T_70852_level0_row18\" class=\"row_heading level0 row18\" >18</th>\n",
       "      <td id=\"T_70852_row18_col0\" class=\"data row18 col0\" >Use GPU</td>\n",
       "      <td id=\"T_70852_row18_col1\" class=\"data row18 col1\" >False</td>\n",
       "    </tr>\n",
       "    <tr>\n",
       "      <th id=\"T_70852_level0_row19\" class=\"row_heading level0 row19\" >19</th>\n",
       "      <td id=\"T_70852_row19_col0\" class=\"data row19 col0\" >Log Experiment</td>\n",
       "      <td id=\"T_70852_row19_col1\" class=\"data row19 col1\" >True</td>\n",
       "    </tr>\n",
       "    <tr>\n",
       "      <th id=\"T_70852_level0_row20\" class=\"row_heading level0 row20\" >20</th>\n",
       "      <td id=\"T_70852_row20_col0\" class=\"data row20 col0\" >Experiment Name</td>\n",
       "      <td id=\"T_70852_row20_col1\" class=\"data row20 col1\" >crash-severity</td>\n",
       "    </tr>\n",
       "    <tr>\n",
       "      <th id=\"T_70852_level0_row21\" class=\"row_heading level0 row21\" >21</th>\n",
       "      <td id=\"T_70852_row21_col0\" class=\"data row21 col0\" >USI</td>\n",
       "      <td id=\"T_70852_row21_col1\" class=\"data row21 col1\" >07b5</td>\n",
       "    </tr>\n",
       "    <tr>\n",
       "      <th id=\"T_70852_level0_row22\" class=\"row_heading level0 row22\" >22</th>\n",
       "      <td id=\"T_70852_row22_col0\" class=\"data row22 col0\" >Imputation Type</td>\n",
       "      <td id=\"T_70852_row22_col1\" class=\"data row22 col1\" >simple</td>\n",
       "    </tr>\n",
       "    <tr>\n",
       "      <th id=\"T_70852_level0_row23\" class=\"row_heading level0 row23\" >23</th>\n",
       "      <td id=\"T_70852_row23_col0\" class=\"data row23 col0\" >Iterative Imputation Iteration</td>\n",
       "      <td id=\"T_70852_row23_col1\" class=\"data row23 col1\" >None</td>\n",
       "    </tr>\n",
       "    <tr>\n",
       "      <th id=\"T_70852_level0_row24\" class=\"row_heading level0 row24\" >24</th>\n",
       "      <td id=\"T_70852_row24_col0\" class=\"data row24 col0\" >Numeric Imputer</td>\n",
       "      <td id=\"T_70852_row24_col1\" class=\"data row24 col1\" >mean</td>\n",
       "    </tr>\n",
       "    <tr>\n",
       "      <th id=\"T_70852_level0_row25\" class=\"row_heading level0 row25\" >25</th>\n",
       "      <td id=\"T_70852_row25_col0\" class=\"data row25 col0\" >Iterative Imputation Numeric Model</td>\n",
       "      <td id=\"T_70852_row25_col1\" class=\"data row25 col1\" >None</td>\n",
       "    </tr>\n",
       "    <tr>\n",
       "      <th id=\"T_70852_level0_row26\" class=\"row_heading level0 row26\" >26</th>\n",
       "      <td id=\"T_70852_row26_col0\" class=\"data row26 col0\" >Categorical Imputer</td>\n",
       "      <td id=\"T_70852_row26_col1\" class=\"data row26 col1\" >constant</td>\n",
       "    </tr>\n",
       "    <tr>\n",
       "      <th id=\"T_70852_level0_row27\" class=\"row_heading level0 row27\" >27</th>\n",
       "      <td id=\"T_70852_row27_col0\" class=\"data row27 col0\" >Iterative Imputation Categorical Model</td>\n",
       "      <td id=\"T_70852_row27_col1\" class=\"data row27 col1\" >None</td>\n",
       "    </tr>\n",
       "    <tr>\n",
       "      <th id=\"T_70852_level0_row28\" class=\"row_heading level0 row28\" >28</th>\n",
       "      <td id=\"T_70852_row28_col0\" class=\"data row28 col0\" >Unknown Categoricals Handling</td>\n",
       "      <td id=\"T_70852_row28_col1\" class=\"data row28 col1\" >least_frequent</td>\n",
       "    </tr>\n",
       "    <tr>\n",
       "      <th id=\"T_70852_level0_row29\" class=\"row_heading level0 row29\" >29</th>\n",
       "      <td id=\"T_70852_row29_col0\" class=\"data row29 col0\" >Normalize</td>\n",
       "      <td id=\"T_70852_row29_col1\" class=\"data row29 col1\" >False</td>\n",
       "    </tr>\n",
       "    <tr>\n",
       "      <th id=\"T_70852_level0_row30\" class=\"row_heading level0 row30\" >30</th>\n",
       "      <td id=\"T_70852_row30_col0\" class=\"data row30 col0\" >Normalize Method</td>\n",
       "      <td id=\"T_70852_row30_col1\" class=\"data row30 col1\" >None</td>\n",
       "    </tr>\n",
       "    <tr>\n",
       "      <th id=\"T_70852_level0_row31\" class=\"row_heading level0 row31\" >31</th>\n",
       "      <td id=\"T_70852_row31_col0\" class=\"data row31 col0\" >Transformation</td>\n",
       "      <td id=\"T_70852_row31_col1\" class=\"data row31 col1\" >False</td>\n",
       "    </tr>\n",
       "    <tr>\n",
       "      <th id=\"T_70852_level0_row32\" class=\"row_heading level0 row32\" >32</th>\n",
       "      <td id=\"T_70852_row32_col0\" class=\"data row32 col0\" >Transformation Method</td>\n",
       "      <td id=\"T_70852_row32_col1\" class=\"data row32 col1\" >None</td>\n",
       "    </tr>\n",
       "    <tr>\n",
       "      <th id=\"T_70852_level0_row33\" class=\"row_heading level0 row33\" >33</th>\n",
       "      <td id=\"T_70852_row33_col0\" class=\"data row33 col0\" >PCA</td>\n",
       "      <td id=\"T_70852_row33_col1\" class=\"data row33 col1\" >False</td>\n",
       "    </tr>\n",
       "    <tr>\n",
       "      <th id=\"T_70852_level0_row34\" class=\"row_heading level0 row34\" >34</th>\n",
       "      <td id=\"T_70852_row34_col0\" class=\"data row34 col0\" >PCA Method</td>\n",
       "      <td id=\"T_70852_row34_col1\" class=\"data row34 col1\" >None</td>\n",
       "    </tr>\n",
       "    <tr>\n",
       "      <th id=\"T_70852_level0_row35\" class=\"row_heading level0 row35\" >35</th>\n",
       "      <td id=\"T_70852_row35_col0\" class=\"data row35 col0\" >PCA Components</td>\n",
       "      <td id=\"T_70852_row35_col1\" class=\"data row35 col1\" >None</td>\n",
       "    </tr>\n",
       "    <tr>\n",
       "      <th id=\"T_70852_level0_row36\" class=\"row_heading level0 row36\" >36</th>\n",
       "      <td id=\"T_70852_row36_col0\" class=\"data row36 col0\" >Ignore Low Variance</td>\n",
       "      <td id=\"T_70852_row36_col1\" class=\"data row36 col1\" >False</td>\n",
       "    </tr>\n",
       "    <tr>\n",
       "      <th id=\"T_70852_level0_row37\" class=\"row_heading level0 row37\" >37</th>\n",
       "      <td id=\"T_70852_row37_col0\" class=\"data row37 col0\" >Combine Rare Levels</td>\n",
       "      <td id=\"T_70852_row37_col1\" class=\"data row37 col1\" >False</td>\n",
       "    </tr>\n",
       "    <tr>\n",
       "      <th id=\"T_70852_level0_row38\" class=\"row_heading level0 row38\" >38</th>\n",
       "      <td id=\"T_70852_row38_col0\" class=\"data row38 col0\" >Rare Level Threshold</td>\n",
       "      <td id=\"T_70852_row38_col1\" class=\"data row38 col1\" >None</td>\n",
       "    </tr>\n",
       "    <tr>\n",
       "      <th id=\"T_70852_level0_row39\" class=\"row_heading level0 row39\" >39</th>\n",
       "      <td id=\"T_70852_row39_col0\" class=\"data row39 col0\" >Numeric Binning</td>\n",
       "      <td id=\"T_70852_row39_col1\" class=\"data row39 col1\" >False</td>\n",
       "    </tr>\n",
       "    <tr>\n",
       "      <th id=\"T_70852_level0_row40\" class=\"row_heading level0 row40\" >40</th>\n",
       "      <td id=\"T_70852_row40_col0\" class=\"data row40 col0\" >Remove Outliers</td>\n",
       "      <td id=\"T_70852_row40_col1\" class=\"data row40 col1\" >False</td>\n",
       "    </tr>\n",
       "    <tr>\n",
       "      <th id=\"T_70852_level0_row41\" class=\"row_heading level0 row41\" >41</th>\n",
       "      <td id=\"T_70852_row41_col0\" class=\"data row41 col0\" >Outliers Threshold</td>\n",
       "      <td id=\"T_70852_row41_col1\" class=\"data row41 col1\" >None</td>\n",
       "    </tr>\n",
       "    <tr>\n",
       "      <th id=\"T_70852_level0_row42\" class=\"row_heading level0 row42\" >42</th>\n",
       "      <td id=\"T_70852_row42_col0\" class=\"data row42 col0\" >Remove Multicollinearity</td>\n",
       "      <td id=\"T_70852_row42_col1\" class=\"data row42 col1\" >False</td>\n",
       "    </tr>\n",
       "    <tr>\n",
       "      <th id=\"T_70852_level0_row43\" class=\"row_heading level0 row43\" >43</th>\n",
       "      <td id=\"T_70852_row43_col0\" class=\"data row43 col0\" >Multicollinearity Threshold</td>\n",
       "      <td id=\"T_70852_row43_col1\" class=\"data row43 col1\" >None</td>\n",
       "    </tr>\n",
       "    <tr>\n",
       "      <th id=\"T_70852_level0_row44\" class=\"row_heading level0 row44\" >44</th>\n",
       "      <td id=\"T_70852_row44_col0\" class=\"data row44 col0\" >Remove Perfect Collinearity</td>\n",
       "      <td id=\"T_70852_row44_col1\" class=\"data row44 col1\" >True</td>\n",
       "    </tr>\n",
       "    <tr>\n",
       "      <th id=\"T_70852_level0_row45\" class=\"row_heading level0 row45\" >45</th>\n",
       "      <td id=\"T_70852_row45_col0\" class=\"data row45 col0\" >Clustering</td>\n",
       "      <td id=\"T_70852_row45_col1\" class=\"data row45 col1\" >False</td>\n",
       "    </tr>\n",
       "    <tr>\n",
       "      <th id=\"T_70852_level0_row46\" class=\"row_heading level0 row46\" >46</th>\n",
       "      <td id=\"T_70852_row46_col0\" class=\"data row46 col0\" >Clustering Iteration</td>\n",
       "      <td id=\"T_70852_row46_col1\" class=\"data row46 col1\" >None</td>\n",
       "    </tr>\n",
       "    <tr>\n",
       "      <th id=\"T_70852_level0_row47\" class=\"row_heading level0 row47\" >47</th>\n",
       "      <td id=\"T_70852_row47_col0\" class=\"data row47 col0\" >Polynomial Features</td>\n",
       "      <td id=\"T_70852_row47_col1\" class=\"data row47 col1\" >False</td>\n",
       "    </tr>\n",
       "    <tr>\n",
       "      <th id=\"T_70852_level0_row48\" class=\"row_heading level0 row48\" >48</th>\n",
       "      <td id=\"T_70852_row48_col0\" class=\"data row48 col0\" >Polynomial Degree</td>\n",
       "      <td id=\"T_70852_row48_col1\" class=\"data row48 col1\" >None</td>\n",
       "    </tr>\n",
       "    <tr>\n",
       "      <th id=\"T_70852_level0_row49\" class=\"row_heading level0 row49\" >49</th>\n",
       "      <td id=\"T_70852_row49_col0\" class=\"data row49 col0\" >Trignometry Features</td>\n",
       "      <td id=\"T_70852_row49_col1\" class=\"data row49 col1\" >False</td>\n",
       "    </tr>\n",
       "    <tr>\n",
       "      <th id=\"T_70852_level0_row50\" class=\"row_heading level0 row50\" >50</th>\n",
       "      <td id=\"T_70852_row50_col0\" class=\"data row50 col0\" >Polynomial Threshold</td>\n",
       "      <td id=\"T_70852_row50_col1\" class=\"data row50 col1\" >None</td>\n",
       "    </tr>\n",
       "    <tr>\n",
       "      <th id=\"T_70852_level0_row51\" class=\"row_heading level0 row51\" >51</th>\n",
       "      <td id=\"T_70852_row51_col0\" class=\"data row51 col0\" >Group Features</td>\n",
       "      <td id=\"T_70852_row51_col1\" class=\"data row51 col1\" >False</td>\n",
       "    </tr>\n",
       "    <tr>\n",
       "      <th id=\"T_70852_level0_row52\" class=\"row_heading level0 row52\" >52</th>\n",
       "      <td id=\"T_70852_row52_col0\" class=\"data row52 col0\" >Feature Selection</td>\n",
       "      <td id=\"T_70852_row52_col1\" class=\"data row52 col1\" >False</td>\n",
       "    </tr>\n",
       "    <tr>\n",
       "      <th id=\"T_70852_level0_row53\" class=\"row_heading level0 row53\" >53</th>\n",
       "      <td id=\"T_70852_row53_col0\" class=\"data row53 col0\" >Feature Selection Method</td>\n",
       "      <td id=\"T_70852_row53_col1\" class=\"data row53 col1\" >classic</td>\n",
       "    </tr>\n",
       "    <tr>\n",
       "      <th id=\"T_70852_level0_row54\" class=\"row_heading level0 row54\" >54</th>\n",
       "      <td id=\"T_70852_row54_col0\" class=\"data row54 col0\" >Features Selection Threshold</td>\n",
       "      <td id=\"T_70852_row54_col1\" class=\"data row54 col1\" >None</td>\n",
       "    </tr>\n",
       "    <tr>\n",
       "      <th id=\"T_70852_level0_row55\" class=\"row_heading level0 row55\" >55</th>\n",
       "      <td id=\"T_70852_row55_col0\" class=\"data row55 col0\" >Feature Interaction</td>\n",
       "      <td id=\"T_70852_row55_col1\" class=\"data row55 col1\" >False</td>\n",
       "    </tr>\n",
       "    <tr>\n",
       "      <th id=\"T_70852_level0_row56\" class=\"row_heading level0 row56\" >56</th>\n",
       "      <td id=\"T_70852_row56_col0\" class=\"data row56 col0\" >Feature Ratio</td>\n",
       "      <td id=\"T_70852_row56_col1\" class=\"data row56 col1\" >False</td>\n",
       "    </tr>\n",
       "    <tr>\n",
       "      <th id=\"T_70852_level0_row57\" class=\"row_heading level0 row57\" >57</th>\n",
       "      <td id=\"T_70852_row57_col0\" class=\"data row57 col0\" >Interaction Threshold</td>\n",
       "      <td id=\"T_70852_row57_col1\" class=\"data row57 col1\" >None</td>\n",
       "    </tr>\n",
       "    <tr>\n",
       "      <th id=\"T_70852_level0_row58\" class=\"row_heading level0 row58\" >58</th>\n",
       "      <td id=\"T_70852_row58_col0\" class=\"data row58 col0\" >Fix Imbalance</td>\n",
       "      <td id=\"T_70852_row58_col1\" class=\"data row58 col1\" >False</td>\n",
       "    </tr>\n",
       "    <tr>\n",
       "      <th id=\"T_70852_level0_row59\" class=\"row_heading level0 row59\" >59</th>\n",
       "      <td id=\"T_70852_row59_col0\" class=\"data row59 col0\" >Fix Imbalance Method</td>\n",
       "      <td id=\"T_70852_row59_col1\" class=\"data row59 col1\" >SMOTE</td>\n",
       "    </tr>\n",
       "  </tbody>\n",
       "</table>\n"
      ],
      "text/plain": [
       "<pandas.io.formats.style.Styler at 0x7fe539dc7af0>"
      ]
     },
     "metadata": {},
     "output_type": "display_data"
    }
   ],
   "source": [
    "import pycaret\n",
    "from pycaret.classification import *\n",
    "\n",
    "clf = setup(train_data, \n",
    "            target = 'serious_accident', \n",
    "            session_id=123, \n",
    "            log_experiment=True, \n",
    "            experiment_name='crash-severity'\n",
    " )"
   ]
  },
  {
   "cell_type": "code",
   "execution_count": null,
   "id": "0b87c468-82bf-4240-85a3-434919ea0524",
   "metadata": {},
   "outputs": [
    {
     "data": {
      "application/vnd.jupyter.widget-view+json": {
       "model_id": "8a9e0e8613b44f5781ee7334320f1b9e",
       "version_major": 2,
       "version_minor": 0
      },
      "text/plain": [
       "IntProgress(value=0, description='Processing: ', max=79)"
      ]
     },
     "metadata": {},
     "output_type": "display_data"
    },
    {
     "data": {
      "text/html": [
       "<div>\n",
       "<style scoped>\n",
       "    .dataframe tbody tr th:only-of-type {\n",
       "        vertical-align: middle;\n",
       "    }\n",
       "\n",
       "    .dataframe tbody tr th {\n",
       "        vertical-align: top;\n",
       "    }\n",
       "\n",
       "    .dataframe thead th {\n",
       "        text-align: right;\n",
       "    }\n",
       "</style>\n",
       "<table border=\"1\" class=\"dataframe\">\n",
       "  <thead>\n",
       "    <tr style=\"text-align: right;\">\n",
       "      <th></th>\n",
       "      <th></th>\n",
       "      <th></th>\n",
       "    </tr>\n",
       "    <tr>\n",
       "      <th></th>\n",
       "      <th></th>\n",
       "      <th></th>\n",
       "    </tr>\n",
       "  </thead>\n",
       "  <tbody>\n",
       "    <tr>\n",
       "      <th>Initiated</th>\n",
       "      <td>. . . . . . . . . . . . . . . . . .</td>\n",
       "      <td>21:50:27</td>\n",
       "    </tr>\n",
       "    <tr>\n",
       "      <th>Status</th>\n",
       "      <td>. . . . . . . . . . . . . . . . . .</td>\n",
       "      <td>Fitting 10 Folds</td>\n",
       "    </tr>\n",
       "    <tr>\n",
       "      <th>Estimator</th>\n",
       "      <td>. . . . . . . . . . . . . . . . . .</td>\n",
       "      <td>Extra Trees Classifier</td>\n",
       "    </tr>\n",
       "  </tbody>\n",
       "</table>\n",
       "</div>"
      ],
      "text/plain": [
       "                                                                      \n",
       "                                                                      \n",
       "Initiated  . . . . . . . . . . . . . . . . . .                21:50:27\n",
       "Status     . . . . . . . . . . . . . . . . . .        Fitting 10 Folds\n",
       "Estimator  . . . . . . . . . . . . . . . . . .  Extra Trees Classifier"
      ]
     },
     "metadata": {},
     "output_type": "display_data"
    },
    {
     "data": {
      "text/html": [
       "<style type=\"text/css\">\n",
       "#T_a7ed2 th {\n",
       "  text-align: left;\n",
       "}\n",
       "#T_a7ed2_row0_col0, #T_a7ed2_row0_col1, #T_a7ed2_row0_col2, #T_a7ed2_row0_col3, #T_a7ed2_row0_col4, #T_a7ed2_row0_col5, #T_a7ed2_row0_col6, #T_a7ed2_row0_col7, #T_a7ed2_row0_col8, #T_a7ed2_row1_col0, #T_a7ed2_row1_col1, #T_a7ed2_row1_col2, #T_a7ed2_row1_col3, #T_a7ed2_row1_col4, #T_a7ed2_row1_col5, #T_a7ed2_row1_col6, #T_a7ed2_row1_col7, #T_a7ed2_row1_col8, #T_a7ed2_row2_col0, #T_a7ed2_row2_col1, #T_a7ed2_row2_col2, #T_a7ed2_row2_col3, #T_a7ed2_row2_col4, #T_a7ed2_row2_col5, #T_a7ed2_row2_col6, #T_a7ed2_row2_col7, #T_a7ed2_row2_col8, #T_a7ed2_row3_col0, #T_a7ed2_row3_col1, #T_a7ed2_row3_col2, #T_a7ed2_row3_col3, #T_a7ed2_row3_col4, #T_a7ed2_row3_col5, #T_a7ed2_row3_col6, #T_a7ed2_row3_col7, #T_a7ed2_row3_col8, #T_a7ed2_row4_col0, #T_a7ed2_row4_col1, #T_a7ed2_row4_col2, #T_a7ed2_row4_col3, #T_a7ed2_row4_col4, #T_a7ed2_row4_col5, #T_a7ed2_row4_col6, #T_a7ed2_row4_col7, #T_a7ed2_row4_col8, #T_a7ed2_row5_col0, #T_a7ed2_row5_col1, #T_a7ed2_row5_col2, #T_a7ed2_row5_col3, #T_a7ed2_row5_col4, #T_a7ed2_row5_col5, #T_a7ed2_row5_col6, #T_a7ed2_row5_col7, #T_a7ed2_row5_col8, #T_a7ed2_row6_col0, #T_a7ed2_row6_col1, #T_a7ed2_row6_col2, #T_a7ed2_row6_col3, #T_a7ed2_row6_col4, #T_a7ed2_row6_col5, #T_a7ed2_row6_col6, #T_a7ed2_row6_col7, #T_a7ed2_row6_col8, #T_a7ed2_row7_col0, #T_a7ed2_row7_col1, #T_a7ed2_row7_col2, #T_a7ed2_row7_col3, #T_a7ed2_row7_col4, #T_a7ed2_row7_col5, #T_a7ed2_row7_col6, #T_a7ed2_row7_col7, #T_a7ed2_row7_col8, #T_a7ed2_row8_col0, #T_a7ed2_row8_col1, #T_a7ed2_row8_col2, #T_a7ed2_row8_col3, #T_a7ed2_row8_col4, #T_a7ed2_row8_col5, #T_a7ed2_row8_col6, #T_a7ed2_row8_col7, #T_a7ed2_row8_col8, #T_a7ed2_row9_col0, #T_a7ed2_row9_col1, #T_a7ed2_row9_col2, #T_a7ed2_row9_col3, #T_a7ed2_row9_col4, #T_a7ed2_row9_col5, #T_a7ed2_row9_col6, #T_a7ed2_row9_col7, #T_a7ed2_row9_col8, #T_a7ed2_row10_col0, #T_a7ed2_row10_col1, #T_a7ed2_row10_col2, #T_a7ed2_row10_col3, #T_a7ed2_row10_col4, #T_a7ed2_row10_col5, #T_a7ed2_row10_col6, #T_a7ed2_row10_col7, #T_a7ed2_row10_col8 {\n",
       "  text-align: left;\n",
       "}\n",
       "</style>\n",
       "<table id=\"T_a7ed2\">\n",
       "  <thead>\n",
       "    <tr>\n",
       "      <th class=\"blank level0\" >&nbsp;</th>\n",
       "      <th id=\"T_a7ed2_level0_col0\" class=\"col_heading level0 col0\" >Model</th>\n",
       "      <th id=\"T_a7ed2_level0_col1\" class=\"col_heading level0 col1\" >Accuracy</th>\n",
       "      <th id=\"T_a7ed2_level0_col2\" class=\"col_heading level0 col2\" >AUC</th>\n",
       "      <th id=\"T_a7ed2_level0_col3\" class=\"col_heading level0 col3\" >Recall</th>\n",
       "      <th id=\"T_a7ed2_level0_col4\" class=\"col_heading level0 col4\" >Prec.</th>\n",
       "      <th id=\"T_a7ed2_level0_col5\" class=\"col_heading level0 col5\" >F1</th>\n",
       "      <th id=\"T_a7ed2_level0_col6\" class=\"col_heading level0 col6\" >Kappa</th>\n",
       "      <th id=\"T_a7ed2_level0_col7\" class=\"col_heading level0 col7\" >MCC</th>\n",
       "      <th id=\"T_a7ed2_level0_col8\" class=\"col_heading level0 col8\" >TT (Sec)</th>\n",
       "    </tr>\n",
       "  </thead>\n",
       "  <tbody>\n",
       "    <tr>\n",
       "      <th id=\"T_a7ed2_level0_row0\" class=\"row_heading level0 row0\" >rf</th>\n",
       "      <td id=\"T_a7ed2_row0_col0\" class=\"data row0 col0\" >Random Forest Classifier</td>\n",
       "      <td id=\"T_a7ed2_row0_col1\" class=\"data row0 col1\" >0.6985</td>\n",
       "      <td id=\"T_a7ed2_row0_col2\" class=\"data row0 col2\" >0.7733</td>\n",
       "      <td id=\"T_a7ed2_row0_col3\" class=\"data row0 col3\" >0.6388</td>\n",
       "      <td id=\"T_a7ed2_row0_col4\" class=\"data row0 col4\" >0.7254</td>\n",
       "      <td id=\"T_a7ed2_row0_col5\" class=\"data row0 col5\" >0.6793</td>\n",
       "      <td id=\"T_a7ed2_row0_col6\" class=\"data row0 col6\" >0.3970</td>\n",
       "      <td id=\"T_a7ed2_row0_col7\" class=\"data row0 col7\" >0.3999</td>\n",
       "      <td id=\"T_a7ed2_row0_col8\" class=\"data row0 col8\" >73.2700</td>\n",
       "    </tr>\n",
       "    <tr>\n",
       "      <th id=\"T_a7ed2_level0_row1\" class=\"row_heading level0 row1\" >gbc</th>\n",
       "      <td id=\"T_a7ed2_row1_col0\" class=\"data row1 col0\" >Gradient Boosting Classifier</td>\n",
       "      <td id=\"T_a7ed2_row1_col1\" class=\"data row1 col1\" >0.6956</td>\n",
       "      <td id=\"T_a7ed2_row1_col2\" class=\"data row1 col2\" >0.7682</td>\n",
       "      <td id=\"T_a7ed2_row1_col3\" class=\"data row1 col3\" >0.5878</td>\n",
       "      <td id=\"T_a7ed2_row1_col4\" class=\"data row1 col4\" >0.7494</td>\n",
       "      <td id=\"T_a7ed2_row1_col5\" class=\"data row1 col5\" >0.6588</td>\n",
       "      <td id=\"T_a7ed2_row1_col6\" class=\"data row1 col6\" >0.3912</td>\n",
       "      <td id=\"T_a7ed2_row1_col7\" class=\"data row1 col7\" >0.4007</td>\n",
       "      <td id=\"T_a7ed2_row1_col8\" class=\"data row1 col8\" >132.0030</td>\n",
       "    </tr>\n",
       "    <tr>\n",
       "      <th id=\"T_a7ed2_level0_row2\" class=\"row_heading level0 row2\" >ada</th>\n",
       "      <td id=\"T_a7ed2_row2_col0\" class=\"data row2 col0\" >Ada Boost Classifier</td>\n",
       "      <td id=\"T_a7ed2_row2_col1\" class=\"data row2 col1\" >0.6642</td>\n",
       "      <td id=\"T_a7ed2_row2_col2\" class=\"data row2 col2\" >0.7329</td>\n",
       "      <td id=\"T_a7ed2_row2_col3\" class=\"data row2 col3\" >0.6081</td>\n",
       "      <td id=\"T_a7ed2_row2_col4\" class=\"data row2 col4\" >0.6849</td>\n",
       "      <td id=\"T_a7ed2_row2_col5\" class=\"data row2 col5\" >0.6442</td>\n",
       "      <td id=\"T_a7ed2_row2_col6\" class=\"data row2 col6\" >0.3284</td>\n",
       "      <td id=\"T_a7ed2_row2_col7\" class=\"data row2 col7\" >0.3305</td>\n",
       "      <td id=\"T_a7ed2_row2_col8\" class=\"data row2 col8\" >12.4970</td>\n",
       "    </tr>\n",
       "    <tr>\n",
       "      <th id=\"T_a7ed2_level0_row3\" class=\"row_heading level0 row3\" >ridge</th>\n",
       "      <td id=\"T_a7ed2_row3_col0\" class=\"data row3 col0\" >Ridge Classifier</td>\n",
       "      <td id=\"T_a7ed2_row3_col1\" class=\"data row3 col1\" >0.6323</td>\n",
       "      <td id=\"T_a7ed2_row3_col2\" class=\"data row3 col2\" >0.0000</td>\n",
       "      <td id=\"T_a7ed2_row3_col3\" class=\"data row3 col3\" >0.5725</td>\n",
       "      <td id=\"T_a7ed2_row3_col4\" class=\"data row3 col4\" >0.6502</td>\n",
       "      <td id=\"T_a7ed2_row3_col5\" class=\"data row3 col5\" >0.6089</td>\n",
       "      <td id=\"T_a7ed2_row3_col6\" class=\"data row3 col6\" >0.2646</td>\n",
       "      <td id=\"T_a7ed2_row3_col7\" class=\"data row3 col7\" >0.2665</td>\n",
       "      <td id=\"T_a7ed2_row3_col8\" class=\"data row3 col8\" >0.4450</td>\n",
       "    </tr>\n",
       "    <tr>\n",
       "      <th id=\"T_a7ed2_level0_row4\" class=\"row_heading level0 row4\" >lda</th>\n",
       "      <td id=\"T_a7ed2_row4_col0\" class=\"data row4 col0\" >Linear Discriminant Analysis</td>\n",
       "      <td id=\"T_a7ed2_row4_col1\" class=\"data row4 col1\" >0.6323</td>\n",
       "      <td id=\"T_a7ed2_row4_col2\" class=\"data row4 col2\" >0.6706</td>\n",
       "      <td id=\"T_a7ed2_row4_col3\" class=\"data row4 col3\" >0.5725</td>\n",
       "      <td id=\"T_a7ed2_row4_col4\" class=\"data row4 col4\" >0.6502</td>\n",
       "      <td id=\"T_a7ed2_row4_col5\" class=\"data row4 col5\" >0.6089</td>\n",
       "      <td id=\"T_a7ed2_row4_col6\" class=\"data row4 col6\" >0.2645</td>\n",
       "      <td id=\"T_a7ed2_row4_col7\" class=\"data row4 col7\" >0.2664</td>\n",
       "      <td id=\"T_a7ed2_row4_col8\" class=\"data row4 col8\" >4.0560</td>\n",
       "    </tr>\n",
       "    <tr>\n",
       "      <th id=\"T_a7ed2_level0_row5\" class=\"row_heading level0 row5\" >dt</th>\n",
       "      <td id=\"T_a7ed2_row5_col0\" class=\"data row5 col0\" >Decision Tree Classifier</td>\n",
       "      <td id=\"T_a7ed2_row5_col1\" class=\"data row5 col1\" >0.6308</td>\n",
       "      <td id=\"T_a7ed2_row5_col2\" class=\"data row5 col2\" >0.6308</td>\n",
       "      <td id=\"T_a7ed2_row5_col3\" class=\"data row5 col3\" >0.6325</td>\n",
       "      <td id=\"T_a7ed2_row5_col4\" class=\"data row5 col4\" >0.6303</td>\n",
       "      <td id=\"T_a7ed2_row5_col5\" class=\"data row5 col5\" >0.6314</td>\n",
       "      <td id=\"T_a7ed2_row5_col6\" class=\"data row5 col6\" >0.2616</td>\n",
       "      <td id=\"T_a7ed2_row5_col7\" class=\"data row5 col7\" >0.2616</td>\n",
       "      <td id=\"T_a7ed2_row5_col8\" class=\"data row5 col8\" >4.7900</td>\n",
       "    </tr>\n",
       "    <tr>\n",
       "      <th id=\"T_a7ed2_level0_row6\" class=\"row_heading level0 row6\" >nb</th>\n",
       "      <td id=\"T_a7ed2_row6_col0\" class=\"data row6 col0\" >Naive Bayes</td>\n",
       "      <td id=\"T_a7ed2_row6_col1\" class=\"data row6 col1\" >0.6091</td>\n",
       "      <td id=\"T_a7ed2_row6_col2\" class=\"data row6 col2\" >0.6483</td>\n",
       "      <td id=\"T_a7ed2_row6_col3\" class=\"data row6 col3\" >0.4164</td>\n",
       "      <td id=\"T_a7ed2_row6_col4\" class=\"data row6 col4\" >0.6773</td>\n",
       "      <td id=\"T_a7ed2_row6_col5\" class=\"data row6 col5\" >0.5157</td>\n",
       "      <td id=\"T_a7ed2_row6_col6\" class=\"data row6 col6\" >0.2181</td>\n",
       "      <td id=\"T_a7ed2_row6_col7\" class=\"data row6 col7\" >0.2364</td>\n",
       "      <td id=\"T_a7ed2_row6_col8\" class=\"data row6 col8\" >0.8890</td>\n",
       "    </tr>\n",
       "    <tr>\n",
       "      <th id=\"T_a7ed2_level0_row7\" class=\"row_heading level0 row7\" >lr</th>\n",
       "      <td id=\"T_a7ed2_row7_col0\" class=\"data row7 col0\" >Logistic Regression</td>\n",
       "      <td id=\"T_a7ed2_row7_col1\" class=\"data row7 col1\" >0.6058</td>\n",
       "      <td id=\"T_a7ed2_row7_col2\" class=\"data row7 col2\" >0.6312</td>\n",
       "      <td id=\"T_a7ed2_row7_col3\" class=\"data row7 col3\" >0.5166</td>\n",
       "      <td id=\"T_a7ed2_row7_col4\" class=\"data row7 col4\" >0.6290</td>\n",
       "      <td id=\"T_a7ed2_row7_col5\" class=\"data row7 col5\" >0.5671</td>\n",
       "      <td id=\"T_a7ed2_row7_col6\" class=\"data row7 col6\" >0.2116</td>\n",
       "      <td id=\"T_a7ed2_row7_col7\" class=\"data row7 col7\" >0.2152</td>\n",
       "      <td id=\"T_a7ed2_row7_col8\" class=\"data row7 col8\" >7.8840</td>\n",
       "    </tr>\n",
       "    <tr>\n",
       "      <th id=\"T_a7ed2_level0_row8\" class=\"row_heading level0 row8\" >knn</th>\n",
       "      <td id=\"T_a7ed2_row8_col0\" class=\"data row8 col0\" >K Neighbors Classifier</td>\n",
       "      <td id=\"T_a7ed2_row8_col1\" class=\"data row8 col1\" >0.5947</td>\n",
       "      <td id=\"T_a7ed2_row8_col2\" class=\"data row8 col2\" >0.6289</td>\n",
       "      <td id=\"T_a7ed2_row8_col3\" class=\"data row8 col3\" >0.6021</td>\n",
       "      <td id=\"T_a7ed2_row8_col4\" class=\"data row8 col4\" >0.5933</td>\n",
       "      <td id=\"T_a7ed2_row8_col5\" class=\"data row8 col5\" >0.5977</td>\n",
       "      <td id=\"T_a7ed2_row8_col6\" class=\"data row8 col6\" >0.1894</td>\n",
       "      <td id=\"T_a7ed2_row8_col7\" class=\"data row8 col7\" >0.1894</td>\n",
       "      <td id=\"T_a7ed2_row8_col8\" class=\"data row8 col8\" >532.2450</td>\n",
       "    </tr>\n",
       "    <tr>\n",
       "      <th id=\"T_a7ed2_level0_row9\" class=\"row_heading level0 row9\" >svm</th>\n",
       "      <td id=\"T_a7ed2_row9_col0\" class=\"data row9 col0\" >SVM - Linear Kernel</td>\n",
       "      <td id=\"T_a7ed2_row9_col1\" class=\"data row9 col1\" >0.5279</td>\n",
       "      <td id=\"T_a7ed2_row9_col2\" class=\"data row9 col2\" >0.0000</td>\n",
       "      <td id=\"T_a7ed2_row9_col3\" class=\"data row9 col3\" >0.3979</td>\n",
       "      <td id=\"T_a7ed2_row9_col4\" class=\"data row9 col4\" >0.5918</td>\n",
       "      <td id=\"T_a7ed2_row9_col5\" class=\"data row9 col5\" >0.3255</td>\n",
       "      <td id=\"T_a7ed2_row9_col6\" class=\"data row9 col6\" >0.0557</td>\n",
       "      <td id=\"T_a7ed2_row9_col7\" class=\"data row9 col7\" >0.0779</td>\n",
       "      <td id=\"T_a7ed2_row9_col8\" class=\"data row9 col8\" >50.4320</td>\n",
       "    </tr>\n",
       "    <tr>\n",
       "      <th id=\"T_a7ed2_level0_row10\" class=\"row_heading level0 row10\" >qda</th>\n",
       "      <td id=\"T_a7ed2_row10_col0\" class=\"data row10 col0\" >Quadratic Discriminant Analysis</td>\n",
       "      <td id=\"T_a7ed2_row10_col1\" class=\"data row10 col1\" >0.5000</td>\n",
       "      <td id=\"T_a7ed2_row10_col2\" class=\"data row10 col2\" >0.5000</td>\n",
       "      <td id=\"T_a7ed2_row10_col3\" class=\"data row10 col3\" >0.4057</td>\n",
       "      <td id=\"T_a7ed2_row10_col4\" class=\"data row10 col4\" >0.4956</td>\n",
       "      <td id=\"T_a7ed2_row10_col5\" class=\"data row10 col5\" >0.4257</td>\n",
       "      <td id=\"T_a7ed2_row10_col6\" class=\"data row10 col6\" >-0.0001</td>\n",
       "      <td id=\"T_a7ed2_row10_col7\" class=\"data row10 col7\" >-0.0012</td>\n",
       "      <td id=\"T_a7ed2_row10_col8\" class=\"data row10 col8\" >1.9140</td>\n",
       "    </tr>\n",
       "  </tbody>\n",
       "</table>\n"
      ],
      "text/plain": [
       "<pandas.io.formats.style.Styler at 0x7fe5ef687730>"
      ]
     },
     "metadata": {},
     "output_type": "display_data"
    }
   ],
   "source": [
    "best_model = compare_models()"
   ]
  }
 ],
 "metadata": {
  "colab": {
   "name": "HW4-Team1-AdaBoostClassifier.ipynb",
   "provenance": []
  },
  "kernelspec": {
   "display_name": "Python 3",
   "language": "python",
   "name": "python3"
  },
  "language_info": {
   "codemirror_mode": {
    "name": "ipython",
    "version": 3
   },
   "file_extension": ".py",
   "mimetype": "text/x-python",
   "name": "python",
   "nbconvert_exporter": "python",
   "pygments_lexer": "ipython3",
   "version": "3.8.5"
  }
 },
 "nbformat": 4,
 "nbformat_minor": 5
}
